{
 "cells": [
  {
   "cell_type": "markdown",
   "id": "94efeb31-d4b9-4df1-a43b-a2e233f00b96",
   "metadata": {},
   "source": [
    "# 3. Machine Learning for Classification"
   ]
  },
  {
   "cell_type": "markdown",
   "id": "d0cde25b",
   "metadata": {},
   "source": [
    "[Logistic Regression](https://en.wikipedia.org/wiki/Logistic_regression) for churn prediction"
   ]
  },
  {
   "cell_type": "markdown",
   "id": "b6ee3f0a-57d8-4c06-9d31-79e7c91bd9a3",
   "metadata": {},
   "source": [
    "# 3.1 The Project Data\n",
    "- **Dataset**: https://www.kaggle.com/datasets/blastchar/telco-customer-churn"
   ]
  },
  {
   "cell_type": "markdown",
   "id": "bd691a0a",
   "metadata": {},
   "source": [
    "## 3.2 Data Preparation"
   ]
  },
  {
   "cell_type": "markdown",
   "id": "f3fba8f0",
   "metadata": {},
   "source": [
    "- Downloading the data and reading it with pandas\n",
    "- Looking at the data (not yet EDA)\n",
    "- Make column names and values look uniform\n",
    "- Check if all columns are read correctly\n",
    "- Check if the churn variable needs any preparation"
   ]
  },
  {
   "cell_type": "code",
   "execution_count": 2,
   "id": "44530a55",
   "metadata": {},
   "outputs": [],
   "source": [
    "import pandas as pd\n",
    "import numpy as np\n",
    "import matplotlib.pyplot as plt"
   ]
  },
  {
   "cell_type": "code",
   "execution_count": 3,
   "id": "0a38f0f5",
   "metadata": {},
   "outputs": [
    {
     "name": "stdout",
     "output_type": "stream",
     "text": [
      "--2023-09-25 16:45:36--  https://raw.githubusercontent.com/alexeygrigorev/mlbookcamp-code/master/chapter-03-churn-prediction/WA_Fn-UseC_-Telco-Customer-Churn.csv\n",
      "Resolving raw.githubusercontent.com (raw.githubusercontent.com)... 2606:50c0:8000::154, 2606:50c0:8003::154, 2606:50c0:8002::154, ...\n",
      "Connecting to raw.githubusercontent.com (raw.githubusercontent.com)|2606:50c0:8000::154|:443... connected.\n",
      "HTTP request sent, awaiting response... 416 Range Not Satisfiable\n",
      "\n",
      "    The file is already fully retrieved; nothing to do.\n",
      "\n"
     ]
    }
   ],
   "source": [
    "data_source = \"https://raw.githubusercontent.com/alexeygrigorev/mlbookcamp-code/master/chapter-03-churn-prediction/WA_Fn-UseC_-Telco-Customer-Churn.csv\"\n",
    "!wget -c $data_source -O data-week-3.csv"
   ]
  },
  {
   "cell_type": "code",
   "execution_count": 4,
   "id": "1aa40fad",
   "metadata": {},
   "outputs": [
    {
     "data": {
      "text/html": [
       "<div>\n",
       "<style scoped>\n",
       "    .dataframe tbody tr th:only-of-type {\n",
       "        vertical-align: middle;\n",
       "    }\n",
       "\n",
       "    .dataframe tbody tr th {\n",
       "        vertical-align: top;\n",
       "    }\n",
       "\n",
       "    .dataframe thead th {\n",
       "        text-align: right;\n",
       "    }\n",
       "</style>\n",
       "<table border=\"1\" class=\"dataframe\">\n",
       "  <thead>\n",
       "    <tr style=\"text-align: right;\">\n",
       "      <th></th>\n",
       "      <th>customerID</th>\n",
       "      <th>gender</th>\n",
       "      <th>SeniorCitizen</th>\n",
       "      <th>Partner</th>\n",
       "      <th>Dependents</th>\n",
       "      <th>tenure</th>\n",
       "      <th>PhoneService</th>\n",
       "      <th>MultipleLines</th>\n",
       "      <th>InternetService</th>\n",
       "      <th>OnlineSecurity</th>\n",
       "      <th>...</th>\n",
       "      <th>DeviceProtection</th>\n",
       "      <th>TechSupport</th>\n",
       "      <th>StreamingTV</th>\n",
       "      <th>StreamingMovies</th>\n",
       "      <th>Contract</th>\n",
       "      <th>PaperlessBilling</th>\n",
       "      <th>PaymentMethod</th>\n",
       "      <th>MonthlyCharges</th>\n",
       "      <th>TotalCharges</th>\n",
       "      <th>Churn</th>\n",
       "    </tr>\n",
       "  </thead>\n",
       "  <tbody>\n",
       "    <tr>\n",
       "      <th>0</th>\n",
       "      <td>7590-VHVEG</td>\n",
       "      <td>Female</td>\n",
       "      <td>0</td>\n",
       "      <td>Yes</td>\n",
       "      <td>No</td>\n",
       "      <td>1</td>\n",
       "      <td>No</td>\n",
       "      <td>No phone service</td>\n",
       "      <td>DSL</td>\n",
       "      <td>No</td>\n",
       "      <td>...</td>\n",
       "      <td>No</td>\n",
       "      <td>No</td>\n",
       "      <td>No</td>\n",
       "      <td>No</td>\n",
       "      <td>Month-to-month</td>\n",
       "      <td>Yes</td>\n",
       "      <td>Electronic check</td>\n",
       "      <td>29.85</td>\n",
       "      <td>29.85</td>\n",
       "      <td>No</td>\n",
       "    </tr>\n",
       "    <tr>\n",
       "      <th>1</th>\n",
       "      <td>5575-GNVDE</td>\n",
       "      <td>Male</td>\n",
       "      <td>0</td>\n",
       "      <td>No</td>\n",
       "      <td>No</td>\n",
       "      <td>34</td>\n",
       "      <td>Yes</td>\n",
       "      <td>No</td>\n",
       "      <td>DSL</td>\n",
       "      <td>Yes</td>\n",
       "      <td>...</td>\n",
       "      <td>Yes</td>\n",
       "      <td>No</td>\n",
       "      <td>No</td>\n",
       "      <td>No</td>\n",
       "      <td>One year</td>\n",
       "      <td>No</td>\n",
       "      <td>Mailed check</td>\n",
       "      <td>56.95</td>\n",
       "      <td>1889.5</td>\n",
       "      <td>No</td>\n",
       "    </tr>\n",
       "    <tr>\n",
       "      <th>2</th>\n",
       "      <td>3668-QPYBK</td>\n",
       "      <td>Male</td>\n",
       "      <td>0</td>\n",
       "      <td>No</td>\n",
       "      <td>No</td>\n",
       "      <td>2</td>\n",
       "      <td>Yes</td>\n",
       "      <td>No</td>\n",
       "      <td>DSL</td>\n",
       "      <td>Yes</td>\n",
       "      <td>...</td>\n",
       "      <td>No</td>\n",
       "      <td>No</td>\n",
       "      <td>No</td>\n",
       "      <td>No</td>\n",
       "      <td>Month-to-month</td>\n",
       "      <td>Yes</td>\n",
       "      <td>Mailed check</td>\n",
       "      <td>53.85</td>\n",
       "      <td>108.15</td>\n",
       "      <td>Yes</td>\n",
       "    </tr>\n",
       "    <tr>\n",
       "      <th>3</th>\n",
       "      <td>7795-CFOCW</td>\n",
       "      <td>Male</td>\n",
       "      <td>0</td>\n",
       "      <td>No</td>\n",
       "      <td>No</td>\n",
       "      <td>45</td>\n",
       "      <td>No</td>\n",
       "      <td>No phone service</td>\n",
       "      <td>DSL</td>\n",
       "      <td>Yes</td>\n",
       "      <td>...</td>\n",
       "      <td>Yes</td>\n",
       "      <td>Yes</td>\n",
       "      <td>No</td>\n",
       "      <td>No</td>\n",
       "      <td>One year</td>\n",
       "      <td>No</td>\n",
       "      <td>Bank transfer (automatic)</td>\n",
       "      <td>42.30</td>\n",
       "      <td>1840.75</td>\n",
       "      <td>No</td>\n",
       "    </tr>\n",
       "    <tr>\n",
       "      <th>4</th>\n",
       "      <td>9237-HQITU</td>\n",
       "      <td>Female</td>\n",
       "      <td>0</td>\n",
       "      <td>No</td>\n",
       "      <td>No</td>\n",
       "      <td>2</td>\n",
       "      <td>Yes</td>\n",
       "      <td>No</td>\n",
       "      <td>Fiber optic</td>\n",
       "      <td>No</td>\n",
       "      <td>...</td>\n",
       "      <td>No</td>\n",
       "      <td>No</td>\n",
       "      <td>No</td>\n",
       "      <td>No</td>\n",
       "      <td>Month-to-month</td>\n",
       "      <td>Yes</td>\n",
       "      <td>Electronic check</td>\n",
       "      <td>70.70</td>\n",
       "      <td>151.65</td>\n",
       "      <td>Yes</td>\n",
       "    </tr>\n",
       "  </tbody>\n",
       "</table>\n",
       "<p>5 rows × 21 columns</p>\n",
       "</div>"
      ],
      "text/plain": [
       "   customerID  gender  SeniorCitizen Partner Dependents  tenure PhoneService  \\\n",
       "0  7590-VHVEG  Female              0     Yes         No       1           No   \n",
       "1  5575-GNVDE    Male              0      No         No      34          Yes   \n",
       "2  3668-QPYBK    Male              0      No         No       2          Yes   \n",
       "3  7795-CFOCW    Male              0      No         No      45           No   \n",
       "4  9237-HQITU  Female              0      No         No       2          Yes   \n",
       "\n",
       "      MultipleLines InternetService OnlineSecurity  ... DeviceProtection  \\\n",
       "0  No phone service             DSL             No  ...               No   \n",
       "1                No             DSL            Yes  ...              Yes   \n",
       "2                No             DSL            Yes  ...               No   \n",
       "3  No phone service             DSL            Yes  ...              Yes   \n",
       "4                No     Fiber optic             No  ...               No   \n",
       "\n",
       "  TechSupport StreamingTV StreamingMovies        Contract PaperlessBilling  \\\n",
       "0          No          No              No  Month-to-month              Yes   \n",
       "1          No          No              No        One year               No   \n",
       "2          No          No              No  Month-to-month              Yes   \n",
       "3         Yes          No              No        One year               No   \n",
       "4          No          No              No  Month-to-month              Yes   \n",
       "\n",
       "               PaymentMethod MonthlyCharges  TotalCharges Churn  \n",
       "0           Electronic check          29.85         29.85    No  \n",
       "1               Mailed check          56.95        1889.5    No  \n",
       "2               Mailed check          53.85        108.15   Yes  \n",
       "3  Bank transfer (automatic)          42.30       1840.75    No  \n",
       "4           Electronic check          70.70        151.65   Yes  \n",
       "\n",
       "[5 rows x 21 columns]"
      ]
     },
     "execution_count": 4,
     "metadata": {},
     "output_type": "execute_result"
    }
   ],
   "source": [
    "# Loading the data\n",
    "df = pd.read_csv(\"data-week-3.csv\")\n",
    "df.head()"
   ]
  },
  {
   "cell_type": "markdown",
   "id": "1a94d994",
   "metadata": {},
   "source": [
    "Steps done here:\n",
    "- Making everything lower-case\n",
    "- Removing all whitespaces in column-names and entries and replacing them with `_`"
   ]
  },
  {
   "cell_type": "code",
   "execution_count": 5,
   "id": "ad72fe15",
   "metadata": {},
   "outputs": [],
   "source": [
    "# Replacing all white-spaces from feature-names\n",
    "df.columns = df.columns.str.lower().str.replace(\" \", \"_\")\n",
    "\n",
    "# Replacing all white-spaces in entries\n",
    "categorical_columns = list(df.dtypes[df.dtypes == \"object\"].index)\n",
    "for c in categorical_columns:\n",
    "    df[c] = df[c].str.lower().str.replace(\" \", \"_\")"
   ]
  },
  {
   "cell_type": "code",
   "execution_count": 6,
   "id": "e86013fd",
   "metadata": {},
   "outputs": [
    {
     "data": {
      "text/html": [
       "<div>\n",
       "<style scoped>\n",
       "    .dataframe tbody tr th:only-of-type {\n",
       "        vertical-align: middle;\n",
       "    }\n",
       "\n",
       "    .dataframe tbody tr th {\n",
       "        vertical-align: top;\n",
       "    }\n",
       "\n",
       "    .dataframe thead th {\n",
       "        text-align: right;\n",
       "    }\n",
       "</style>\n",
       "<table border=\"1\" class=\"dataframe\">\n",
       "  <thead>\n",
       "    <tr style=\"text-align: right;\">\n",
       "      <th></th>\n",
       "      <th>0</th>\n",
       "      <th>1</th>\n",
       "      <th>2</th>\n",
       "      <th>3</th>\n",
       "      <th>4</th>\n",
       "    </tr>\n",
       "  </thead>\n",
       "  <tbody>\n",
       "    <tr>\n",
       "      <th>customerid</th>\n",
       "      <td>7590-vhveg</td>\n",
       "      <td>5575-gnvde</td>\n",
       "      <td>3668-qpybk</td>\n",
       "      <td>7795-cfocw</td>\n",
       "      <td>9237-hqitu</td>\n",
       "    </tr>\n",
       "    <tr>\n",
       "      <th>gender</th>\n",
       "      <td>female</td>\n",
       "      <td>male</td>\n",
       "      <td>male</td>\n",
       "      <td>male</td>\n",
       "      <td>female</td>\n",
       "    </tr>\n",
       "    <tr>\n",
       "      <th>seniorcitizen</th>\n",
       "      <td>0</td>\n",
       "      <td>0</td>\n",
       "      <td>0</td>\n",
       "      <td>0</td>\n",
       "      <td>0</td>\n",
       "    </tr>\n",
       "    <tr>\n",
       "      <th>partner</th>\n",
       "      <td>yes</td>\n",
       "      <td>no</td>\n",
       "      <td>no</td>\n",
       "      <td>no</td>\n",
       "      <td>no</td>\n",
       "    </tr>\n",
       "    <tr>\n",
       "      <th>dependents</th>\n",
       "      <td>no</td>\n",
       "      <td>no</td>\n",
       "      <td>no</td>\n",
       "      <td>no</td>\n",
       "      <td>no</td>\n",
       "    </tr>\n",
       "    <tr>\n",
       "      <th>tenure</th>\n",
       "      <td>1</td>\n",
       "      <td>34</td>\n",
       "      <td>2</td>\n",
       "      <td>45</td>\n",
       "      <td>2</td>\n",
       "    </tr>\n",
       "    <tr>\n",
       "      <th>phoneservice</th>\n",
       "      <td>no</td>\n",
       "      <td>yes</td>\n",
       "      <td>yes</td>\n",
       "      <td>no</td>\n",
       "      <td>yes</td>\n",
       "    </tr>\n",
       "    <tr>\n",
       "      <th>multiplelines</th>\n",
       "      <td>no_phone_service</td>\n",
       "      <td>no</td>\n",
       "      <td>no</td>\n",
       "      <td>no_phone_service</td>\n",
       "      <td>no</td>\n",
       "    </tr>\n",
       "    <tr>\n",
       "      <th>internetservice</th>\n",
       "      <td>dsl</td>\n",
       "      <td>dsl</td>\n",
       "      <td>dsl</td>\n",
       "      <td>dsl</td>\n",
       "      <td>fiber_optic</td>\n",
       "    </tr>\n",
       "    <tr>\n",
       "      <th>onlinesecurity</th>\n",
       "      <td>no</td>\n",
       "      <td>yes</td>\n",
       "      <td>yes</td>\n",
       "      <td>yes</td>\n",
       "      <td>no</td>\n",
       "    </tr>\n",
       "    <tr>\n",
       "      <th>onlinebackup</th>\n",
       "      <td>yes</td>\n",
       "      <td>no</td>\n",
       "      <td>yes</td>\n",
       "      <td>no</td>\n",
       "      <td>no</td>\n",
       "    </tr>\n",
       "    <tr>\n",
       "      <th>deviceprotection</th>\n",
       "      <td>no</td>\n",
       "      <td>yes</td>\n",
       "      <td>no</td>\n",
       "      <td>yes</td>\n",
       "      <td>no</td>\n",
       "    </tr>\n",
       "    <tr>\n",
       "      <th>techsupport</th>\n",
       "      <td>no</td>\n",
       "      <td>no</td>\n",
       "      <td>no</td>\n",
       "      <td>yes</td>\n",
       "      <td>no</td>\n",
       "    </tr>\n",
       "    <tr>\n",
       "      <th>streamingtv</th>\n",
       "      <td>no</td>\n",
       "      <td>no</td>\n",
       "      <td>no</td>\n",
       "      <td>no</td>\n",
       "      <td>no</td>\n",
       "    </tr>\n",
       "    <tr>\n",
       "      <th>streamingmovies</th>\n",
       "      <td>no</td>\n",
       "      <td>no</td>\n",
       "      <td>no</td>\n",
       "      <td>no</td>\n",
       "      <td>no</td>\n",
       "    </tr>\n",
       "    <tr>\n",
       "      <th>contract</th>\n",
       "      <td>month-to-month</td>\n",
       "      <td>one_year</td>\n",
       "      <td>month-to-month</td>\n",
       "      <td>one_year</td>\n",
       "      <td>month-to-month</td>\n",
       "    </tr>\n",
       "    <tr>\n",
       "      <th>paperlessbilling</th>\n",
       "      <td>yes</td>\n",
       "      <td>no</td>\n",
       "      <td>yes</td>\n",
       "      <td>no</td>\n",
       "      <td>yes</td>\n",
       "    </tr>\n",
       "    <tr>\n",
       "      <th>paymentmethod</th>\n",
       "      <td>electronic_check</td>\n",
       "      <td>mailed_check</td>\n",
       "      <td>mailed_check</td>\n",
       "      <td>bank_transfer_(automatic)</td>\n",
       "      <td>electronic_check</td>\n",
       "    </tr>\n",
       "    <tr>\n",
       "      <th>monthlycharges</th>\n",
       "      <td>29.85</td>\n",
       "      <td>56.95</td>\n",
       "      <td>53.85</td>\n",
       "      <td>42.3</td>\n",
       "      <td>70.7</td>\n",
       "    </tr>\n",
       "    <tr>\n",
       "      <th>totalcharges</th>\n",
       "      <td>29.85</td>\n",
       "      <td>1889.5</td>\n",
       "      <td>108.15</td>\n",
       "      <td>1840.75</td>\n",
       "      <td>151.65</td>\n",
       "    </tr>\n",
       "    <tr>\n",
       "      <th>churn</th>\n",
       "      <td>no</td>\n",
       "      <td>no</td>\n",
       "      <td>yes</td>\n",
       "      <td>no</td>\n",
       "      <td>yes</td>\n",
       "    </tr>\n",
       "  </tbody>\n",
       "</table>\n",
       "</div>"
      ],
      "text/plain": [
       "                                 0             1               2  \\\n",
       "customerid              7590-vhveg    5575-gnvde      3668-qpybk   \n",
       "gender                      female          male            male   \n",
       "seniorcitizen                    0             0               0   \n",
       "partner                        yes            no              no   \n",
       "dependents                      no            no              no   \n",
       "tenure                           1            34               2   \n",
       "phoneservice                    no           yes             yes   \n",
       "multiplelines     no_phone_service            no              no   \n",
       "internetservice                dsl           dsl             dsl   \n",
       "onlinesecurity                  no           yes             yes   \n",
       "onlinebackup                   yes            no             yes   \n",
       "deviceprotection                no           yes              no   \n",
       "techsupport                     no            no              no   \n",
       "streamingtv                     no            no              no   \n",
       "streamingmovies                 no            no              no   \n",
       "contract            month-to-month      one_year  month-to-month   \n",
       "paperlessbilling               yes            no             yes   \n",
       "paymentmethod     electronic_check  mailed_check    mailed_check   \n",
       "monthlycharges               29.85         56.95           53.85   \n",
       "totalcharges                 29.85        1889.5          108.15   \n",
       "churn                           no            no             yes   \n",
       "\n",
       "                                          3                 4  \n",
       "customerid                       7795-cfocw        9237-hqitu  \n",
       "gender                                 male            female  \n",
       "seniorcitizen                             0                 0  \n",
       "partner                                  no                no  \n",
       "dependents                               no                no  \n",
       "tenure                                   45                 2  \n",
       "phoneservice                             no               yes  \n",
       "multiplelines              no_phone_service                no  \n",
       "internetservice                         dsl       fiber_optic  \n",
       "onlinesecurity                          yes                no  \n",
       "onlinebackup                             no                no  \n",
       "deviceprotection                        yes                no  \n",
       "techsupport                             yes                no  \n",
       "streamingtv                              no                no  \n",
       "streamingmovies                          no                no  \n",
       "contract                           one_year    month-to-month  \n",
       "paperlessbilling                         no               yes  \n",
       "paymentmethod     bank_transfer_(automatic)  electronic_check  \n",
       "monthlycharges                         42.3              70.7  \n",
       "totalcharges                        1840.75            151.65  \n",
       "churn                                    no               yes  "
      ]
     },
     "execution_count": 6,
     "metadata": {},
     "output_type": "execute_result"
    }
   ],
   "source": [
    "df.head().T  # For visualization purposes (transpose the dataframe)"
   ]
  },
  {
   "cell_type": "code",
   "execution_count": 7,
   "id": "01b4e001",
   "metadata": {},
   "outputs": [
    {
     "data": {
      "text/plain": [
       "customerid           object\n",
       "gender               object\n",
       "seniorcitizen         int64\n",
       "partner              object\n",
       "dependents           object\n",
       "tenure                int64\n",
       "phoneservice         object\n",
       "multiplelines        object\n",
       "internetservice      object\n",
       "onlinesecurity       object\n",
       "onlinebackup         object\n",
       "deviceprotection     object\n",
       "techsupport          object\n",
       "streamingtv          object\n",
       "streamingmovies      object\n",
       "contract             object\n",
       "paperlessbilling     object\n",
       "paymentmethod        object\n",
       "monthlycharges      float64\n",
       "totalcharges         object\n",
       "churn                object\n",
       "dtype: object"
      ]
     },
     "execution_count": 7,
     "metadata": {},
     "output_type": "execute_result"
    }
   ],
   "source": [
    "df.dtypes"
   ]
  },
  {
   "cell_type": "markdown",
   "id": "05e29058",
   "metadata": {},
   "source": [
    "**General Overview over the data**:\n",
    "\n",
    "| **`Feature`**     | **`Type`**          |**`Description`**                                                  |\n",
    "| ----------------- | ------------------- |------------------------------------------------------------------ |\n",
    "| **customerid**      | `object (String)`     | The customer ID.                                                  |\n",
    "| **gender**          | `object (String)`     | Whether the customer is a `male` or a `female`.                   |\n",
    "| **seniorcitizen**   | `numerical (int64)`   | Whether the customer is a senior citizen or not (`1`, `0`).       |\n",
    "| **partner**         | `object (String)`     | Whether the customer has a partner or not (`yes`, `no`).          |\n",
    "| **dependents**      | `object (String)`     | Whether the customer has dependents or not (`yes`, `no`).         |\n",
    "| **tenure**          | `numerical (int64)`   | Number of months the customer has stayed with the company.        |\n",
    "| **phoneservice**    | `object (String)`     | Whether the customer has a phone service or not (`yes`, `no`).    |\n",
    "| **multiplelines**   | `object (String)`     | Whether the customer has multiple lines or not (`yes`, `no`, `no_phone_service`). |\n",
    "| **internetservice** | `object (String)`     | Customer’s internet service provider (`dsl`, `fiber_optic`, `no`).|\n",
    "| **onlinesecurity**  | `object (String)`     | Whether the customer has online security or not (`yes`, `no`, `no_internet_service`). |\n",
    "| **onlinebackup**    | `object (String)`     | Whether the customer has online security or not (`yes`, `no`, `no_internet_service`). |\n",
    "| **deviceprotection**| `object (String)`     | Whether the customer has device protection or not (`yes`, `no`, `no_internet_service`). |\n",
    "| **techsupport**     | `object (String)`     | Whether the customer has tech support or not (`yes`, `no`, `no_internet_service`). |\n",
    "| **streamingtv**     | `object (String)`     | Whether the customer has streaming TV or not (`yes`, `no`, `no_internet_service`). |\n",
    "| **streamingmovies** | `object (String)`     | Whether the customer has streaming movies or not (`yes`, `no`, `no_internet_service`). |\n",
    "| **contract**        | `object (String)`     | The contract term of the customer (`month-to-month`, `one_year, two_year`). |\n",
    "| **paperlessbilling**| `object (String)`     | Whether the customer has paperless billing or not (`yes`, `no`). |\n",
    "| **paymentmethod**   | `object (String)`     | The customer’s payment method (`electronic_check`, `mailed_check`, `bank_transfer_(automatic)`, `credit_card_(automatic)`) | \n",
    "| **monthlycharges**  | `numerical (float64)` | The amount charged to the customer monthly. |\n",
    "| **totalcharges**    | `object (String)`     | The total amount charged to the customer. |\n",
    "| **churn**           | `object (String)`     | Whether the customer churned or not (`yes`, `no`). | "
   ]
  },
  {
   "cell_type": "code",
   "execution_count": 12,
   "id": "eeeb91e5",
   "metadata": {},
   "outputs": [
    {
     "name": "stdout",
     "output_type": "stream",
     "text": [
      "[0 1]\n",
      "object\n"
     ]
    },
    {
     "data": {
      "text/plain": [
       "0      29.85\n",
       "1     1889.5\n",
       "2     108.15\n",
       "3    1840.75\n",
       "4     151.65\n",
       "Name: totalcharges, dtype: object"
      ]
     },
     "execution_count": 12,
     "metadata": {},
     "output_type": "execute_result"
    }
   ],
   "source": [
    "print(df[\"seniorcitizen\"].unique())\n",
    "print(df[\"totalcharges\"].dtypes)\n",
    "df[\"totalcharges\"].head()"
   ]
  },
  {
   "cell_type": "markdown",
   "id": "2fbeb2df",
   "metadata": {},
   "source": [
    "One can see that `seniorcitizen` is encoded as numeric values and the `totalcharges` are represented as strings, instead of numerical values. The latter observation is a problem, that has to be remedied by converting it to numerical values:"
   ]
  },
  {
   "cell_type": "code",
   "execution_count": 14,
   "id": "a21e973e",
   "metadata": {},
   "outputs": [],
   "source": [
    "# This operation will result in an error, because missing values were represented as \" \".\n",
    "# Since \" \" was replaced with \"_\", there are some values that can not be parsed as numerical values.\n",
    "\n",
    "tc = pd.to_numeric(df[\"totalcharges\"], errors=\"coerce\") # coerce un-parsable values to NaN"
   ]
  },
  {
   "cell_type": "code",
   "execution_count": 18,
   "id": "c6930c86",
   "metadata": {},
   "outputs": [
    {
     "data": {
      "text/html": [
       "<div>\n",
       "<style scoped>\n",
       "    .dataframe tbody tr th:only-of-type {\n",
       "        vertical-align: middle;\n",
       "    }\n",
       "\n",
       "    .dataframe tbody tr th {\n",
       "        vertical-align: top;\n",
       "    }\n",
       "\n",
       "    .dataframe thead th {\n",
       "        text-align: right;\n",
       "    }\n",
       "</style>\n",
       "<table border=\"1\" class=\"dataframe\">\n",
       "  <thead>\n",
       "    <tr style=\"text-align: right;\">\n",
       "      <th></th>\n",
       "      <th>customerid</th>\n",
       "      <th>totalcharges</th>\n",
       "    </tr>\n",
       "  </thead>\n",
       "  <tbody>\n",
       "    <tr>\n",
       "      <th>488</th>\n",
       "      <td>4472-lvygi</td>\n",
       "      <td>_</td>\n",
       "    </tr>\n",
       "    <tr>\n",
       "      <th>753</th>\n",
       "      <td>3115-czmzd</td>\n",
       "      <td>_</td>\n",
       "    </tr>\n",
       "    <tr>\n",
       "      <th>936</th>\n",
       "      <td>5709-lvoeq</td>\n",
       "      <td>_</td>\n",
       "    </tr>\n",
       "    <tr>\n",
       "      <th>1082</th>\n",
       "      <td>4367-nuyao</td>\n",
       "      <td>_</td>\n",
       "    </tr>\n",
       "    <tr>\n",
       "      <th>1340</th>\n",
       "      <td>1371-dwpaz</td>\n",
       "      <td>_</td>\n",
       "    </tr>\n",
       "    <tr>\n",
       "      <th>3331</th>\n",
       "      <td>7644-omvmy</td>\n",
       "      <td>_</td>\n",
       "    </tr>\n",
       "    <tr>\n",
       "      <th>3826</th>\n",
       "      <td>3213-vvolg</td>\n",
       "      <td>_</td>\n",
       "    </tr>\n",
       "    <tr>\n",
       "      <th>4380</th>\n",
       "      <td>2520-sgtta</td>\n",
       "      <td>_</td>\n",
       "    </tr>\n",
       "    <tr>\n",
       "      <th>5218</th>\n",
       "      <td>2923-arzlg</td>\n",
       "      <td>_</td>\n",
       "    </tr>\n",
       "    <tr>\n",
       "      <th>6670</th>\n",
       "      <td>4075-wkniu</td>\n",
       "      <td>_</td>\n",
       "    </tr>\n",
       "    <tr>\n",
       "      <th>6754</th>\n",
       "      <td>2775-sefee</td>\n",
       "      <td>_</td>\n",
       "    </tr>\n",
       "  </tbody>\n",
       "</table>\n",
       "</div>"
      ],
      "text/plain": [
       "      customerid totalcharges\n",
       "488   4472-lvygi            _\n",
       "753   3115-czmzd            _\n",
       "936   5709-lvoeq            _\n",
       "1082  4367-nuyao            _\n",
       "1340  1371-dwpaz            _\n",
       "3331  7644-omvmy            _\n",
       "3826  3213-vvolg            _\n",
       "4380  2520-sgtta            _\n",
       "5218  2923-arzlg            _\n",
       "6670  4075-wkniu            _\n",
       "6754  2775-sefee            _"
      ]
     },
     "execution_count": 18,
     "metadata": {},
     "output_type": "execute_result"
    }
   ],
   "source": [
    "df[tc.isnull()][[\"customerid\", \"totalcharges\"]] # There are 11 rows with NaN-values / missing entries"
   ]
  },
  {
   "cell_type": "code",
   "execution_count": 20,
   "id": "6627c29a",
   "metadata": {},
   "outputs": [
    {
     "data": {
      "text/html": [
       "<div>\n",
       "<style scoped>\n",
       "    .dataframe tbody tr th:only-of-type {\n",
       "        vertical-align: middle;\n",
       "    }\n",
       "\n",
       "    .dataframe tbody tr th {\n",
       "        vertical-align: top;\n",
       "    }\n",
       "\n",
       "    .dataframe thead th {\n",
       "        text-align: right;\n",
       "    }\n",
       "</style>\n",
       "<table border=\"1\" class=\"dataframe\">\n",
       "  <thead>\n",
       "    <tr style=\"text-align: right;\">\n",
       "      <th></th>\n",
       "      <th>customerid</th>\n",
       "      <th>totalcharges</th>\n",
       "    </tr>\n",
       "  </thead>\n",
       "  <tbody>\n",
       "  </tbody>\n",
       "</table>\n",
       "</div>"
      ],
      "text/plain": [
       "Empty DataFrame\n",
       "Columns: [customerid, totalcharges]\n",
       "Index: []"
      ]
     },
     "execution_count": 20,
     "metadata": {},
     "output_type": "execute_result"
    }
   ],
   "source": [
    "# Using the method used above and filling everythin with 0's\n",
    "df[\"totalcharges\"] = pd.to_numeric(df[\"totalcharges\"], errors=\"coerce\")\n",
    "df[\"totalcharges\"] = df[\"totalcharges\"].fillna(0)\n",
    "df[df[\"totalcharges\"].isnull()][[\"customerid\", \"totalcharges\"]] # Empty!"
   ]
  },
  {
   "cell_type": "markdown",
   "id": "de9c1503",
   "metadata": {},
   "source": [
    "This is maybe not the best approach, since most likely the customers spent money, but this strategy works reasonably well in practice."
   ]
  },
  {
   "cell_type": "markdown",
   "id": "c614b487",
   "metadata": {},
   "source": [
    "**Transforming the `churn`-Variable**"
   ]
  },
  {
   "cell_type": "code",
   "execution_count": 22,
   "id": "c1bc0cbb",
   "metadata": {},
   "outputs": [
    {
     "name": "stdout",
     "output_type": "stream",
     "text": [
      "Churn:  [0 1]\n"
     ]
    }
   ],
   "source": [
    "# Alternative: df[\"churn\"] = (df[\"churn\"] == \"yes\").astype(int)\n",
    "df[\"churn\"].replace({\"yes\": 1, \"no\": 0}, inplace=True)\n",
    "print(\"Churn: \", df[\"churn\"].unique())"
   ]
  },
  {
   "cell_type": "markdown",
   "id": "0e3621ee",
   "metadata": {},
   "source": [
    "# 3.3 Setting up the validation framework\n"
   ]
  },
  {
   "cell_type": "markdown",
   "id": "71fcdc49",
   "metadata": {},
   "source": [
    "- Splitting the data into Train-/Val-/Test-set with `scikit-learn`"
   ]
  },
  {
   "cell_type": "code",
   "execution_count": 30,
   "id": "a8019172",
   "metadata": {},
   "outputs": [],
   "source": [
    "from sklearn.model_selection import train_test_split\n",
    "random_state = 1"
   ]
  },
  {
   "cell_type": "code",
   "execution_count": 31,
   "id": "8d1e3614",
   "metadata": {},
   "outputs": [
    {
     "name": "stdout",
     "output_type": "stream",
     "text": [
      "(5634, 21) (1409, 21)\n"
     ]
    }
   ],
   "source": [
    "df_full_train, df_test = train_test_split(df, test_size=0.2, \n",
    "                                          random_state=random_state)\n",
    "print(df_full_train.shape, df_test.shape)"
   ]
  },
  {
   "cell_type": "markdown",
   "id": "4aa7cd40",
   "metadata": {},
   "source": [
    "Splitting the `df_full_train` in to `df_train` and `df_val`. We need to know how much many samples $20\\%$ out of $80\\%$ is.\n",
    "-  $\\frac{20}{80} = \\frac{1}{4} = 0.25 = 25\\%$\n",
    "\n",
    "We now split the training set again with the computed ratio"
   ]
  },
  {
   "cell_type": "code",
   "execution_count": 36,
   "id": "a53f9850",
   "metadata": {},
   "outputs": [
    {
     "name": "stdout",
     "output_type": "stream",
     "text": [
      "df_train:  4225  | ratio: 60%\n",
      "df_val:  1409    | ratio: 20%\n",
      "df_test:  1409   | ratio: 20%\n"
     ]
    }
   ],
   "source": [
    "df_train, df_val = train_test_split(df_full_train, test_size=0.25,\n",
    "                                    random_state=random_state)\n",
    "print(\"df_train: \", len(df_train), f\" | ratio: {len(df_train) / len(df)*100:.0f}%\")\n",
    "print(\"df_val: \", len(df_val), f\"   | ratio: {len(df_val) / len(df) * 100:.0f}%\")\n",
    "print(\"df_test: \", len(df_test), f\"  | ratio: {len(df_test) / len(df) * 100:.0f}%\")\n"
   ]
  },
  {
   "cell_type": "markdown",
   "id": "52a14825",
   "metadata": {},
   "source": [
    "**Extracting the target-variable `churn` as $y$ from the dataframe**"
   ]
  },
  {
   "cell_type": "code",
   "execution_count": 39,
   "id": "9b681c01",
   "metadata": {},
   "outputs": [],
   "source": [
    "# Resetting random indices\n",
    "df_train = df_train.reset_index(drop=True)\n",
    "df_val = df_val.reset_index(drop=True)\n",
    "df_test = df_test.reset_index(drop=True)"
   ]
  },
  {
   "cell_type": "code",
   "execution_count": null,
   "id": "9d50cbe7",
   "metadata": {},
   "outputs": [],
   "source": [
    "# Extracting the churn-values as numpy arrays\n",
    "y_train = df_train[\"churn\"].values\n",
    "y_val = df_val[\"churn\"].values\n",
    "y_test = df_test[\"churn\"].values"
   ]
  },
  {
   "cell_type": "code",
   "execution_count": 43,
   "id": "51ab68b4",
   "metadata": {},
   "outputs": [
    {
     "name": "stderr",
     "output_type": "stream",
     "text": [
      "\n",
      "KeyboardInterrupt\n",
      "\n"
     ]
    }
   ],
   "source": [
    "# Removing the target-value from the dataframe\n",
    "del df_train[\"churn\"]\n",
    "del df_val[\"churn\"]\n",
    "del df_test[\"churn\"]"
   ]
  },
  {
   "cell_type": "markdown",
   "id": "e8a52e36",
   "metadata": {},
   "source": [
    "## 3.4 EDA"
   ]
  },
  {
   "cell_type": "markdown",
   "id": "7f018753",
   "metadata": {},
   "source": [
    "- Checking missing values\n",
    "- Look at target variable `churn`\n",
    "- Look at numerical and categorical variables"
   ]
  },
  {
   "cell_type": "code",
   "execution_count": 44,
   "id": "56f038a0",
   "metadata": {},
   "outputs": [],
   "source": [
    "df_full_train = df_full_train.reset_index(drop=True)"
   ]
  },
  {
   "cell_type": "code",
   "execution_count": 47,
   "id": "91771e87",
   "metadata": {},
   "outputs": [
    {
     "data": {
      "text/plain": [
       "churn\n",
       "0    0.73\n",
       "1    0.27\n",
       "Name: proportion, dtype: float64"
      ]
     },
     "execution_count": 47,
     "metadata": {},
     "output_type": "execute_result"
    }
   ],
   "source": [
    "# What is the percentage of churn to non-churn\n",
    "df_full_train[\"churn\"].value_counts(normalize=True).round(2)"
   ]
  },
  {
   "cell_type": "markdown",
   "id": "e943a5f1",
   "metadata": {},
   "source": [
    "The 27% seen above is the (global) **churn-rate**\n",
    "- Formula: $\\mu_{churn} = \\frac{1}{n}\\sum_i x_i,\\quad x_i\\in\\{0, 1\\}$\n",
    "- $\\frac{\\text{\\# of 1's}}{n} = \\text{churn}$\n"
   ]
  },
  {
   "cell_type": "code",
   "execution_count": 48,
   "id": "4da5b947",
   "metadata": {},
   "outputs": [
    {
     "data": {
      "text/plain": [
       "0.27"
      ]
     },
     "execution_count": 48,
     "metadata": {},
     "output_type": "execute_result"
    }
   ],
   "source": [
    "global_churn_rate = df_full_train[\"churn\"].mean()\n",
    "round(global_churn_rate, 2)"
   ]
  },
  {
   "cell_type": "markdown",
   "id": "99d94f1a",
   "metadata": {},
   "source": [
    "**Now: Looking at the other values from the dataframe**"
   ]
  },
  {
   "cell_type": "code",
   "execution_count": 49,
   "id": "f54d0d7d",
   "metadata": {},
   "outputs": [
    {
     "data": {
      "text/plain": [
       "customerid           object\n",
       "gender               object\n",
       "seniorcitizen         int64\n",
       "partner              object\n",
       "dependents           object\n",
       "tenure                int64\n",
       "phoneservice         object\n",
       "multiplelines        object\n",
       "internetservice      object\n",
       "onlinesecurity       object\n",
       "onlinebackup         object\n",
       "deviceprotection     object\n",
       "techsupport          object\n",
       "streamingtv          object\n",
       "streamingmovies      object\n",
       "contract             object\n",
       "paperlessbilling     object\n",
       "paymentmethod        object\n",
       "monthlycharges      float64\n",
       "totalcharges        float64\n",
       "churn                 int64\n",
       "dtype: object"
      ]
     },
     "execution_count": 49,
     "metadata": {},
     "output_type": "execute_result"
    }
   ],
   "source": [
    "df_full_train.dtypes"
   ]
  },
  {
   "cell_type": "markdown",
   "id": "d82c1200",
   "metadata": {},
   "source": [
    "There are 3 (real) numerical variables.\n",
    "- `tenure`\n",
    "- `monthlycharges`\n",
    "- `totalcharges`"
   ]
  },
  {
   "cell_type": "code",
   "execution_count": 50,
   "id": "d009a988",
   "metadata": {},
   "outputs": [],
   "source": [
    "numerical = [\"tenure\", \"monthlycharges\", \"totalcharges\"]"
   ]
  },
  {
   "cell_type": "markdown",
   "id": "21877521",
   "metadata": {},
   "source": [
    "Getting all the categorical values from the dataframe"
   ]
  },
  {
   "cell_type": "code",
   "execution_count": 53,
   "id": "feee59ba",
   "metadata": {},
   "outputs": [
    {
     "name": "stdout",
     "output_type": "stream",
     "text": [
      "['gender', 'seniorcitizen', 'partner', 'dependents', 'phoneservice', 'multiplelines', 'internetservice', 'onlinesecurity', 'onlinebackup', 'deviceprotection', 'techsupport', 'streamingtv', 'streamingmovies', 'contract', 'paperlessbilling', 'paymentmethod']\n"
     ]
    }
   ],
   "source": [
    "categorical = [\n",
    "    'gender', 'seniorcitizen', 'partner', \n",
    "    'dependents', 'phoneservice', 'multiplelines', \n",
    "    'internetservice', 'onlinesecurity', 'onlinebackup', \n",
    "    'deviceprotection', 'techsupport', 'streamingtv', \n",
    "    'streamingmovies', 'contract', 'paperlessbilling',\n",
    "    'paymentmethod'\n",
    "]"
   ]
  },
  {
   "cell_type": "code",
   "execution_count": 54,
   "id": "a62ec751",
   "metadata": {},
   "outputs": [
    {
     "data": {
      "text/plain": [
       "gender              2\n",
       "seniorcitizen       2\n",
       "partner             2\n",
       "dependents          2\n",
       "phoneservice        2\n",
       "multiplelines       3\n",
       "internetservice     3\n",
       "onlinesecurity      3\n",
       "onlinebackup        3\n",
       "deviceprotection    3\n",
       "techsupport         3\n",
       "streamingtv         3\n",
       "streamingmovies     3\n",
       "contract            3\n",
       "paperlessbilling    2\n",
       "paymentmethod       4\n",
       "dtype: int64"
      ]
     },
     "execution_count": 54,
     "metadata": {},
     "output_type": "execute_result"
    }
   ],
   "source": [
    "# Most of the columns have only a few discrete values (typical)\n",
    "df_full_train[categorical].nunique()"
   ]
  },
  {
   "cell_type": "markdown",
   "id": "26b518b7",
   "metadata": {},
   "source": [
    "## 3.5 Feature importance: Churn rate and risk ratio"
   ]
  },
  {
   "cell_type": "markdown",
   "id": "61a93b54",
   "metadata": {},
   "source": [
    "**`Feature importance (part of EDA)`**: identifying which features affect our target variable\n",
    "- Churn rate\n",
    "- Risk ratio\n",
    "- Mutual indormation (later)"
   ]
  },
  {
   "cell_type": "markdown",
   "id": "0e52e9b0",
   "metadata": {},
   "source": [
    "**Churn rate**"
   ]
  },
  {
   "cell_type": "markdown",
   "id": "3c6f347e",
   "metadata": {},
   "source": []
  },
  {
   "cell_type": "markdown",
   "id": "55239c5d",
   "metadata": {},
   "source": [
    "**Risk ratio**"
   ]
  },
  {
   "cell_type": "markdown",
   "id": "50695cba",
   "metadata": {},
   "source": []
  },
  {
   "cell_type": "markdown",
   "id": "1ecacf40",
   "metadata": {},
   "source": [
    "```SQL\n",
    "SELECT\n",
    "    gender,\n",
    "    AVG(churn),\n",
    "    AVG(churn) - global_churn AS diff,\n",
    "    AVG(churn) / global_churn AS risk\n",
    "FROM\n",
    "    data\n",
    "GROUP BY\n",
    "    gender;\n",
    "```"
   ]
  },
  {
   "cell_type": "markdown",
   "id": "13d45add",
   "metadata": {},
   "source": [
    "## 3.6 Feature Importance: mutual Information"
   ]
  },
  {
   "cell_type": "markdown",
   "id": "40cc2ca2",
   "metadata": {},
   "source": [
    "**Mutual information**: Concept from information theory, that tells us how much we can learn about one varibale if we know the value of another\n",
    "- https://en.wikipedia.org/wiki/Mutual_information"
   ]
  },
  {
   "cell_type": "markdown",
   "id": "85399046",
   "metadata": {},
   "source": []
  },
  {
   "cell_type": "markdown",
   "id": "a6b05f30",
   "metadata": {},
   "source": [
    "## 3.7 Feature Importance: Correlation"
   ]
  },
  {
   "cell_type": "markdown",
   "id": "97e3cc43",
   "metadata": {},
   "source": [
    "How about numerical columns?\n",
    "- Correlation coefficient"
   ]
  },
  {
   "cell_type": "markdown",
   "id": "99857c93",
   "metadata": {},
   "source": []
  },
  {
   "cell_type": "markdown",
   "id": "30d03f3c",
   "metadata": {},
   "source": [
    "## 3.8 One-Hot Encoding"
   ]
  },
  {
   "cell_type": "markdown",
   "id": "57e5c0d6",
   "metadata": {},
   "source": [
    "- Use `scikit-learn` to encoder categorical features"
   ]
  },
  {
   "cell_type": "markdown",
   "id": "aa1712ca",
   "metadata": {},
   "source": []
  },
  {
   "cell_type": "markdown",
   "id": "60b310b8",
   "metadata": {},
   "source": [
    "## 3.9 Logistic Regression"
   ]
  },
  {
   "cell_type": "markdown",
   "id": "4f03a6fa",
   "metadata": {},
   "source": [
    "- Binary classification\n",
    "- Linear- vs. Logistic-Regression"
   ]
  },
  {
   "cell_type": "markdown",
   "id": "a7180ca5",
   "metadata": {},
   "source": []
  },
  {
   "cell_type": "code",
   "execution_count": null,
   "id": "0df53c7d",
   "metadata": {},
   "outputs": [],
   "source": []
  },
  {
   "cell_type": "markdown",
   "id": "5b441acf",
   "metadata": {},
   "source": [
    "## 3.10 Training logostic regression model with `scikit-learn`"
   ]
  },
  {
   "cell_type": "markdown",
   "id": "f024177e",
   "metadata": {},
   "source": [
    "- Train a model with `scikit-learn`\n",
    "- Apply it to the validation dataset\n",
    "- Calculate the accuracy"
   ]
  },
  {
   "cell_type": "markdown",
   "id": "18fcda47",
   "metadata": {},
   "source": []
  },
  {
   "cell_type": "markdown",
   "id": "a05f4598",
   "metadata": {},
   "source": [
    "## 3.11 Model interpretation"
   ]
  },
  {
   "cell_type": "markdown",
   "id": "468dbc81",
   "metadata": {},
   "source": [
    "- Look at the coefficients\n",
    "- Train a smaller model with fewer features"
   ]
  },
  {
   "cell_type": "markdown",
   "id": "03901815",
   "metadata": {},
   "source": []
  },
  {
   "cell_type": "markdown",
   "id": "50ec2557",
   "metadata": {},
   "source": [
    "## 3.12 Using the model"
   ]
  },
  {
   "cell_type": "markdown",
   "id": "d9999705",
   "metadata": {},
   "source": []
  },
  {
   "cell_type": "markdown",
   "id": "7e1df372",
   "metadata": {},
   "source": [
    "## 3.13 Summary"
   ]
  },
  {
   "cell_type": "markdown",
   "id": "9cc0f4be",
   "metadata": {},
   "source": [
    "- **Feature importance**: \n",
    "    - risk, mutual information, correlation\n",
    "- **One-hot encoding**: \n",
    "    - can be implemented with `DictVectorizer`\n",
    "- **Logistic Regression**: \n",
    "    - linear model like linear regression\n",
    "- **Output of Logistic Regression**: \n",
    "    - probability\n",
    "- **Interpretation of weights/parameters**: \n",
    "    - similar to linear regression"
   ]
  },
  {
   "cell_type": "markdown",
   "id": "3efdd9b1",
   "metadata": {},
   "source": []
  }
 ],
 "metadata": {
  "kernelspec": {
   "display_name": "ml-zoomcamp",
   "language": "python",
   "name": "ml-zoomcamp"
  },
  "language_info": {
   "codemirror_mode": {
    "name": "ipython",
    "version": 3
   },
   "file_extension": ".py",
   "mimetype": "text/x-python",
   "name": "python",
   "nbconvert_exporter": "python",
   "pygments_lexer": "ipython3",
   "version": "3.9.18"
  }
 },
 "nbformat": 4,
 "nbformat_minor": 5
}
