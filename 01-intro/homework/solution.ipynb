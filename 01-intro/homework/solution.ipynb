{
 "cells": [
  {
   "cell_type": "code",
   "execution_count": 1,
   "id": "8e32de51-bd8c-4d2e-930b-54d12f9369ed",
   "metadata": {},
   "outputs": [],
   "source": [
    "import numpy as np\n",
    "import pandas as pd"
   ]
  },
  {
   "cell_type": "markdown",
   "id": "9459b9b5-fe74-42f2-8169-dd319c5c64ac",
   "metadata": {},
   "source": [
    "# Question 1"
   ]
  },
  {
   "cell_type": "markdown",
   "id": "38cf0e64-15b9-4d59-964f-8477292ae6eb",
   "metadata": {},
   "source": [
    "**What's the version of Pandas that you installed?**"
   ]
  },
  {
   "cell_type": "code",
   "execution_count": 2,
   "id": "7f7122b9-42c1-40cf-96c8-bbbcb9096ab7",
   "metadata": {},
   "outputs": [
    {
     "data": {
      "text/plain": [
       "'2.1.0'"
      ]
     },
     "execution_count": 2,
     "metadata": {},
     "output_type": "execute_result"
    }
   ],
   "source": [
    "pd.__version__"
   ]
  },
  {
   "cell_type": "markdown",
   "id": "e68d41b1-52f2-47b1-8db3-92a958eff70d",
   "metadata": {},
   "source": [
    "**Getting the data**"
   ]
  },
  {
   "cell_type": "code",
   "execution_count": 3,
   "id": "945d7dfc-e8a2-4e16-94eb-0a7b2cb8de4b",
   "metadata": {},
   "outputs": [
    {
     "name": "stdout",
     "output_type": "stream",
     "text": [
      "--2023-09-17 19:57:18--  https://raw.githubusercontent.com/alexeygrigorev/datasets/master/housing.csv\n",
      "Resolving raw.githubusercontent.com (raw.githubusercontent.com)... 2606:50c0:8000::154, 2606:50c0:8003::154, 2606:50c0:8002::154, ...\n",
      "Connecting to raw.githubusercontent.com (raw.githubusercontent.com)|2606:50c0:8000::154|:443... connected.\n",
      "HTTP request sent, awaiting response... 200 OK\n",
      "Length: 1423529 (1,4M) [text/plain]\n",
      "Saving to: ‘housing.csv’\n",
      "\n",
      "housing.csv         100%[===================>]   1,36M  4,96MB/s    in 0,3s    \n",
      "\n",
      "2023-09-17 19:57:19 (4,96 MB/s) - ‘housing.csv’ saved [1423529/1423529]\n",
      "\n"
     ]
    }
   ],
   "source": [
    "!wget -c https://raw.githubusercontent.com/alexeygrigorev/datasets/master/housing.csv"
   ]
  },
  {
   "cell_type": "markdown",
   "id": "5d366ee1-4847-49db-9498-50d9d80c62e4",
   "metadata": {},
   "source": [
    "**Load the data**"
   ]
  },
  {
   "cell_type": "code",
   "execution_count": 4,
   "id": "f10aafcc-2fc5-46ea-a5aa-a3a2ffbacfd0",
   "metadata": {},
   "outputs": [],
   "source": [
    "df = pd.read_csv(\"housing.csv\")"
   ]
  },
  {
   "cell_type": "markdown",
   "id": "bec68194-2f33-412e-a7b6-347b9a2ac85e",
   "metadata": {},
   "source": [
    "# Question 2"
   ]
  },
  {
   "cell_type": "markdown",
   "id": "eec489d2-f15d-4668-84c8-9973c6671b4b",
   "metadata": {},
   "source": [
    "**How many columns are in the dataset?**"
   ]
  },
  {
   "cell_type": "code",
   "execution_count": 5,
   "id": "d17d9335-63ff-4dfd-9f6f-d07f34c3474c",
   "metadata": {},
   "outputs": [
    {
     "data": {
      "text/plain": [
       "10"
      ]
     },
     "execution_count": 5,
     "metadata": {},
     "output_type": "execute_result"
    }
   ],
   "source": [
    "len(df.columns)"
   ]
  },
  {
   "cell_type": "markdown",
   "id": "c26a2f82-1ab1-4097-bd39-e7ec0033afdc",
   "metadata": {},
   "source": [
    "# Question 3"
   ]
  },
  {
   "cell_type": "markdown",
   "id": "3769c3b4-5af4-417b-80d3-58176cf68f7d",
   "metadata": {},
   "source": [
    "**Which columns in the dataset have missing values?**"
   ]
  },
  {
   "cell_type": "code",
   "execution_count": 6,
   "id": "ae18327d-4e79-4158-9b5b-57d2ffc35b64",
   "metadata": {},
   "outputs": [
    {
     "data": {
      "text/plain": [
       "longitude               0\n",
       "latitude                0\n",
       "housing_median_age      0\n",
       "total_rooms             0\n",
       "total_bedrooms        207\n",
       "population              0\n",
       "households              0\n",
       "median_income           0\n",
       "median_house_value      0\n",
       "ocean_proximity         0\n",
       "dtype: int64"
      ]
     },
     "execution_count": 6,
     "metadata": {},
     "output_type": "execute_result"
    }
   ],
   "source": [
    "df.isna().sum() # total_bedrooms"
   ]
  },
  {
   "cell_type": "markdown",
   "id": "e5e2323b-6b17-435a-94f7-3efcf978b6a6",
   "metadata": {},
   "source": [
    "# Question 4"
   ]
  },
  {
   "cell_type": "markdown",
   "id": "68e85ee2-d81b-47de-b5a2-3a5f6bf8d627",
   "metadata": {},
   "source": [
    "**How many unique values does the `ocean_proximity` column have?**"
   ]
  },
  {
   "cell_type": "code",
   "execution_count": 7,
   "id": "4821a184-0567-43e7-a38f-eacdfa18677b",
   "metadata": {},
   "outputs": [
    {
     "data": {
      "text/plain": [
       "5"
      ]
     },
     "execution_count": 7,
     "metadata": {},
     "output_type": "execute_result"
    }
   ],
   "source": [
    "df[\"ocean_proximity\"].nunique()"
   ]
  },
  {
   "cell_type": "markdown",
   "id": "d90ecd8b-6e54-425d-accf-bb098db53af7",
   "metadata": {},
   "source": [
    "# Question 5"
   ]
  },
  {
   "cell_type": "markdown",
   "id": "8a6b6eb3-5105-4706-9f19-7a810c2e24fd",
   "metadata": {},
   "source": [
    "**What's the average value of the `median_house_value` for the houses located near the bay?**"
   ]
  },
  {
   "cell_type": "code",
   "execution_count": 8,
   "id": "ad12c973-2b8a-46e3-9ca9-a50c2fdca46d",
   "metadata": {},
   "outputs": [
    {
     "data": {
      "text/plain": [
       "259212"
      ]
     },
     "execution_count": 8,
     "metadata": {},
     "output_type": "execute_result"
    }
   ],
   "source": [
    "filter = df[\"ocean_proximity\"] == \"NEAR BAY\"\n",
    "int(df[filter].median_house_value.mean())"
   ]
  },
  {
   "cell_type": "markdown",
   "id": "1bf5b360-ce2e-4c9c-8835-1c5d0d52c6de",
   "metadata": {},
   "source": [
    "# Question 6"
   ]
  },
  {
   "cell_type": "markdown",
   "id": "66986aa4-d5a5-4bc2-9334-6e78b2dda024",
   "metadata": {},
   "source": [
    "1. **Calculate the average of `total_bedrooms` column in the dataset.**\n",
    "2. **Use the `fillna` method to fill the missing values in `total_bedrooms` with the mean value from the previous step.**\n",
    "3. **Now, calculate the average of `total_bedrooms` again.**\n",
    "4. **Has it changed?**"
   ]
  },
  {
   "cell_type": "markdown",
   "id": "fe85d482-f8d9-4714-ad2d-922bf2e61b05",
   "metadata": {},
   "source": [
    "**1. Average of `total_bedrooms` column**"
   ]
  },
  {
   "cell_type": "code",
   "execution_count": 9,
   "id": "e64a9a9b-a16c-421f-bbb5-11b62b3a601f",
   "metadata": {},
   "outputs": [
    {
     "name": "stdout",
     "output_type": "stream",
     "text": [
      "AVG(total_bedrooms): 537.871\n"
     ]
    }
   ],
   "source": [
    "tb_avg = df[\"total_bedrooms\"].mean()\n",
    "print(f\"AVG(total_bedrooms): {tb_avg.round(3)}\")"
   ]
  },
  {
   "cell_type": "markdown",
   "id": "2e941b9b-66be-4594-9900-cd1db9f10dc7",
   "metadata": {},
   "source": [
    "**2. Filling in `na`-values**"
   ]
  },
  {
   "cell_type": "code",
   "execution_count": 10,
   "id": "00d36b8c-1a93-491d-bc40-d7ad28cd98fc",
   "metadata": {},
   "outputs": [
    {
     "name": "stdout",
     "output_type": "stream",
     "text": [
      "Number of NA-Values:  0\n"
     ]
    }
   ],
   "source": [
    "df[\"total_bedrooms\"].fillna(value=tb_avg, inplace=True)\n",
    "print(\"Number of NA-Values: \", df[\"total_bedrooms\"].isna().sum())"
   ]
  },
  {
   "cell_type": "markdown",
   "id": "721c8835-fb35-4499-b027-b0e4326bebdf",
   "metadata": {},
   "source": [
    "**3. Recalculation of 1. with fixed NA-Values**"
   ]
  },
  {
   "cell_type": "code",
   "execution_count": 11,
   "id": "b84dfb49-6710-4a57-bb53-3c34d1214088",
   "metadata": {},
   "outputs": [
    {
     "name": "stdout",
     "output_type": "stream",
     "text": [
      "AVG(total_bedrooms): 537.871\n"
     ]
    }
   ],
   "source": [
    "tb_avg_fixed = df[\"total_bedrooms\"].mean()\n",
    "print(f\"AVG(total_bedrooms): {tb_avg_fixed.round(3)}\")"
   ]
  },
  {
   "cell_type": "markdown",
   "id": "d4c3bb82-85aa-4f7a-8845-b7ea8d2eb08c",
   "metadata": {},
   "source": [
    "**4. Has the result changed?**"
   ]
  },
  {
   "cell_type": "markdown",
   "id": "6d0af920-0ae1-4f5a-a9ba-3f4e9eea1f3d",
   "metadata": {},
   "source": [
    "- No\n",
    "- Additional samples that exactly lie in the mean of a distribution do not change the mean of the whole distribution."
   ]
  },
  {
   "cell_type": "markdown",
   "id": "37b24eb6-1a0a-4ec4-926e-1b21e0e812f6",
   "metadata": {},
   "source": [
    "# Question 7"
   ]
  },
  {
   "cell_type": "markdown",
   "id": "c4a6a653-b7d4-467c-8e67-fcc6023b2559",
   "metadata": {},
   "source": [
    "1. **Select all the options located on islands.**\n",
    "2. **Select only columns `housing_median_age`, `total_rooms`, `total_bedrooms`.**\n",
    "3. **Get the underlying NumPy array. Let's call it `X`.**\n",
    "4. **Compute matrix-matrix multiplication between the transpose of `X` and `X`. To get the transpose, use `X.T`. Let's call the result `XTX`.**\n",
    "5. **Compute the inverse of `XTX`.**\n",
    "6. **Create an array `y` with values `[950, 1300, 800, 1000, 1300]`**.\n",
    "7. **Multiply the inverse of `XTX` with the transpose of `X`, and then multiply the result by `y`. Call the result `w`.**\n",
    "8. **What's the value of the last element of `w`?**"
   ]
  },
  {
   "cell_type": "markdown",
   "id": "e4e0f3fd-57ca-430d-b841-1f38b38d2e96",
   "metadata": {},
   "source": [
    "**1. Select all the options located on islands.**"
   ]
  },
  {
   "cell_type": "code",
   "execution_count": 12,
   "id": "faf4a670-c171-4678-b23e-f1c8163c853e",
   "metadata": {},
   "outputs": [
    {
     "name": "stdout",
     "output_type": "stream",
     "text": [
      "5\n"
     ]
    },
    {
     "data": {
      "text/html": [
       "<div>\n",
       "<style scoped>\n",
       "    .dataframe tbody tr th:only-of-type {\n",
       "        vertical-align: middle;\n",
       "    }\n",
       "\n",
       "    .dataframe tbody tr th {\n",
       "        vertical-align: top;\n",
       "    }\n",
       "\n",
       "    .dataframe thead th {\n",
       "        text-align: right;\n",
       "    }\n",
       "</style>\n",
       "<table border=\"1\" class=\"dataframe\">\n",
       "  <thead>\n",
       "    <tr style=\"text-align: right;\">\n",
       "      <th></th>\n",
       "      <th>longitude</th>\n",
       "      <th>latitude</th>\n",
       "      <th>housing_median_age</th>\n",
       "      <th>total_rooms</th>\n",
       "      <th>total_bedrooms</th>\n",
       "      <th>population</th>\n",
       "      <th>households</th>\n",
       "      <th>median_income</th>\n",
       "      <th>median_house_value</th>\n",
       "      <th>ocean_proximity</th>\n",
       "    </tr>\n",
       "  </thead>\n",
       "  <tbody>\n",
       "    <tr>\n",
       "      <th>8314</th>\n",
       "      <td>-118.32</td>\n",
       "      <td>33.35</td>\n",
       "      <td>27.0</td>\n",
       "      <td>1675.0</td>\n",
       "      <td>521.0</td>\n",
       "      <td>744.0</td>\n",
       "      <td>331.0</td>\n",
       "      <td>2.1579</td>\n",
       "      <td>450000.0</td>\n",
       "      <td>ISLAND</td>\n",
       "    </tr>\n",
       "    <tr>\n",
       "      <th>8315</th>\n",
       "      <td>-118.33</td>\n",
       "      <td>33.34</td>\n",
       "      <td>52.0</td>\n",
       "      <td>2359.0</td>\n",
       "      <td>591.0</td>\n",
       "      <td>1100.0</td>\n",
       "      <td>431.0</td>\n",
       "      <td>2.8333</td>\n",
       "      <td>414700.0</td>\n",
       "      <td>ISLAND</td>\n",
       "    </tr>\n",
       "    <tr>\n",
       "      <th>8316</th>\n",
       "      <td>-118.32</td>\n",
       "      <td>33.33</td>\n",
       "      <td>52.0</td>\n",
       "      <td>2127.0</td>\n",
       "      <td>512.0</td>\n",
       "      <td>733.0</td>\n",
       "      <td>288.0</td>\n",
       "      <td>3.3906</td>\n",
       "      <td>300000.0</td>\n",
       "      <td>ISLAND</td>\n",
       "    </tr>\n",
       "    <tr>\n",
       "      <th>8317</th>\n",
       "      <td>-118.32</td>\n",
       "      <td>33.34</td>\n",
       "      <td>52.0</td>\n",
       "      <td>996.0</td>\n",
       "      <td>264.0</td>\n",
       "      <td>341.0</td>\n",
       "      <td>160.0</td>\n",
       "      <td>2.7361</td>\n",
       "      <td>450000.0</td>\n",
       "      <td>ISLAND</td>\n",
       "    </tr>\n",
       "    <tr>\n",
       "      <th>8318</th>\n",
       "      <td>-118.48</td>\n",
       "      <td>33.43</td>\n",
       "      <td>29.0</td>\n",
       "      <td>716.0</td>\n",
       "      <td>214.0</td>\n",
       "      <td>422.0</td>\n",
       "      <td>173.0</td>\n",
       "      <td>2.6042</td>\n",
       "      <td>287500.0</td>\n",
       "      <td>ISLAND</td>\n",
       "    </tr>\n",
       "  </tbody>\n",
       "</table>\n",
       "</div>"
      ],
      "text/plain": [
       "      longitude  latitude  housing_median_age  total_rooms  total_bedrooms  \\\n",
       "8314    -118.32     33.35                27.0       1675.0           521.0   \n",
       "8315    -118.33     33.34                52.0       2359.0           591.0   \n",
       "8316    -118.32     33.33                52.0       2127.0           512.0   \n",
       "8317    -118.32     33.34                52.0        996.0           264.0   \n",
       "8318    -118.48     33.43                29.0        716.0           214.0   \n",
       "\n",
       "      population  households  median_income  median_house_value  \\\n",
       "8314       744.0       331.0         2.1579            450000.0   \n",
       "8315      1100.0       431.0         2.8333            414700.0   \n",
       "8316       733.0       288.0         3.3906            300000.0   \n",
       "8317       341.0       160.0         2.7361            450000.0   \n",
       "8318       422.0       173.0         2.6042            287500.0   \n",
       "\n",
       "     ocean_proximity  \n",
       "8314          ISLAND  \n",
       "8315          ISLAND  \n",
       "8316          ISLAND  \n",
       "8317          ISLAND  \n",
       "8318          ISLAND  "
      ]
     },
     "execution_count": 12,
     "metadata": {},
     "output_type": "execute_result"
    }
   ],
   "source": [
    "df_island = df[df[\"ocean_proximity\"] == \"ISLAND\"]\n",
    "print(len(df_island))\n",
    "df_island"
   ]
  },
  {
   "cell_type": "markdown",
   "id": "05961c2c-5146-440b-a76c-4b4c022a0c45",
   "metadata": {},
   "source": [
    "**2. Select only columns `housing_median_age`, `total_rooms`, `total_bedrooms`.**"
   ]
  },
  {
   "cell_type": "code",
   "execution_count": 13,
   "id": "479a6c05-e176-4d8e-9fb7-8502d8d194f9",
   "metadata": {},
   "outputs": [
    {
     "data": {
      "text/html": [
       "<div>\n",
       "<style scoped>\n",
       "    .dataframe tbody tr th:only-of-type {\n",
       "        vertical-align: middle;\n",
       "    }\n",
       "\n",
       "    .dataframe tbody tr th {\n",
       "        vertical-align: top;\n",
       "    }\n",
       "\n",
       "    .dataframe thead th {\n",
       "        text-align: right;\n",
       "    }\n",
       "</style>\n",
       "<table border=\"1\" class=\"dataframe\">\n",
       "  <thead>\n",
       "    <tr style=\"text-align: right;\">\n",
       "      <th></th>\n",
       "      <th>housing_median_age</th>\n",
       "      <th>total_rooms</th>\n",
       "      <th>total_bedrooms</th>\n",
       "    </tr>\n",
       "  </thead>\n",
       "  <tbody>\n",
       "    <tr>\n",
       "      <th>8314</th>\n",
       "      <td>27.0</td>\n",
       "      <td>1675.0</td>\n",
       "      <td>521.0</td>\n",
       "    </tr>\n",
       "    <tr>\n",
       "      <th>8315</th>\n",
       "      <td>52.0</td>\n",
       "      <td>2359.0</td>\n",
       "      <td>591.0</td>\n",
       "    </tr>\n",
       "    <tr>\n",
       "      <th>8316</th>\n",
       "      <td>52.0</td>\n",
       "      <td>2127.0</td>\n",
       "      <td>512.0</td>\n",
       "    </tr>\n",
       "    <tr>\n",
       "      <th>8317</th>\n",
       "      <td>52.0</td>\n",
       "      <td>996.0</td>\n",
       "      <td>264.0</td>\n",
       "    </tr>\n",
       "    <tr>\n",
       "      <th>8318</th>\n",
       "      <td>29.0</td>\n",
       "      <td>716.0</td>\n",
       "      <td>214.0</td>\n",
       "    </tr>\n",
       "  </tbody>\n",
       "</table>\n",
       "</div>"
      ],
      "text/plain": [
       "      housing_median_age  total_rooms  total_bedrooms\n",
       "8314                27.0       1675.0           521.0\n",
       "8315                52.0       2359.0           591.0\n",
       "8316                52.0       2127.0           512.0\n",
       "8317                52.0        996.0           264.0\n",
       "8318                29.0        716.0           214.0"
      ]
     },
     "execution_count": 13,
     "metadata": {},
     "output_type": "execute_result"
    }
   ],
   "source": [
    "df_subset = df_island[[\"housing_median_age\", \"total_rooms\", \"total_bedrooms\"]]\n",
    "df_subset"
   ]
  },
  {
   "cell_type": "markdown",
   "id": "7e256a6a-e2fb-4514-a511-1c7f765e2c3a",
   "metadata": {},
   "source": [
    "**3. Get the underlying NumPy array. Let's call it `X`.**"
   ]
  },
  {
   "cell_type": "code",
   "execution_count": 14,
   "id": "f1175e60-6f62-4795-bdc9-3b8392719cc9",
   "metadata": {},
   "outputs": [
    {
     "name": "stdout",
     "output_type": "stream",
     "text": [
      "(5, 3)\n",
      "[[  27. 1675.  521.]\n",
      " [  52. 2359.  591.]\n",
      " [  52. 2127.  512.]\n",
      " [  52.  996.  264.]\n",
      " [  29.  716.  214.]]\n"
     ]
    }
   ],
   "source": [
    "X = df_subset.values\n",
    "print(X.shape)\n",
    "print(X)"
   ]
  },
  {
   "cell_type": "markdown",
   "id": "7effe515-8379-40bb-9f42-a1ceb2c8f87d",
   "metadata": {},
   "source": [
    "**4. Compute matrix-matrix multiplication between the transpose of `X` and `X`. To get the transpose, use `X.T`. Let's call the result `XTX`.**"
   ]
  },
  {
   "cell_type": "code",
   "execution_count": 15,
   "id": "4acc3617-d732-45b7-a471-42749897fe4a",
   "metadata": {},
   "outputs": [
    {
     "name": "stdout",
     "output_type": "stream",
     "text": [
      "X.T @ X:  (3, 3)\n"
     ]
    }
   ],
   "source": [
    "XTX = X.T @ X\n",
    "print(\"X.T @ X: \", XTX.shape)"
   ]
  },
  {
   "cell_type": "markdown",
   "id": "6fc4ed05-f28e-421b-8408-39ae0799218f",
   "metadata": {},
   "source": [
    "**5. Compute the inverse of `XTX`.**"
   ]
  },
  {
   "cell_type": "code",
   "execution_count": 16,
   "id": "86672f90-2fed-46d4-9635-1219cdaa04c3",
   "metadata": {},
   "outputs": [
    {
     "name": "stdout",
     "output_type": "stream",
     "text": [
      "XTX⁻¹:  (3, 3)\n"
     ]
    }
   ],
   "source": [
    "inv_XTX = np.linalg.inv(XTX)\n",
    "print(\"XTX⁻¹: \", inv_XTX.shape)"
   ]
  },
  {
   "cell_type": "markdown",
   "id": "ef8e4a76-3b38-487b-8e3b-d94fc7762591",
   "metadata": {},
   "source": [
    "**6. Create an array `y` with values `[950, 1300, 800, 1000, 1300]`**."
   ]
  },
  {
   "cell_type": "code",
   "execution_count": 17,
   "id": "4fe21983-db7e-4272-a1ac-699b6d059cfb",
   "metadata": {},
   "outputs": [
    {
     "name": "stdout",
     "output_type": "stream",
     "text": [
      "y:  (5,)\n"
     ]
    }
   ],
   "source": [
    "y = np.array([950, 1300, 800, 1000, 1300])\n",
    "print(\"y: \", y.shape)"
   ]
  },
  {
   "cell_type": "markdown",
   "id": "1205824a-cc15-44f3-8dce-406473a87db6",
   "metadata": {},
   "source": [
    "**7. Multiply the inverse of `XTX` with the transpose of `X`, and then multiply the result by `y`. Call the result `w`.**"
   ]
  },
  {
   "cell_type": "code",
   "execution_count": 18,
   "id": "f06aa266-9607-4caa-8f9c-cae73deb6fd4",
   "metadata": {},
   "outputs": [
    {
     "name": "stdout",
     "output_type": "stream",
     "text": [
      "Shapes: (3,) = (3, 3) x (3, 5) x (5,)\n"
     ]
    }
   ],
   "source": [
    "w = inv_XTX @ X.T @ y\n",
    "print(f\"Shapes: {w.shape} = {inv_XTX.shape} x {X.T.shape} x {y.shape}\")"
   ]
  },
  {
   "cell_type": "markdown",
   "id": "f9668fda-bcd8-44ea-84b2-771f48d11338",
   "metadata": {},
   "source": [
    "**8. What's the value of the last element of `w`?**"
   ]
  },
  {
   "cell_type": "code",
   "execution_count": 19,
   "id": "1832b33e-9061-47e6-8af1-83c13d35cb90",
   "metadata": {},
   "outputs": [
    {
     "name": "stdout",
     "output_type": "stream",
     "text": [
      "5.6992\n"
     ]
    }
   ],
   "source": [
    "print(f\"{w[-1]:.4f}\")"
   ]
  }
 ],
 "metadata": {
  "kernelspec": {
   "display_name": "ml-zoomcamp",
   "language": "python",
   "name": "ml-zoomcamp"
  },
  "language_info": {
   "codemirror_mode": {
    "name": "ipython",
    "version": 3
   },
   "file_extension": ".py",
   "mimetype": "text/x-python",
   "name": "python",
   "nbconvert_exporter": "python",
   "pygments_lexer": "ipython3",
   "version": "3.9.18"
  }
 },
 "nbformat": 4,
 "nbformat_minor": 5
}
