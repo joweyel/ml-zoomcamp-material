{
 "cells": [
  {
   "cell_type": "code",
   "execution_count": 1,
   "metadata": {},
   "outputs": [],
   "source": [
    "from tqdm import tqdm\n",
    "import numpy as np\n",
    "import matplotlib.pyplot as plt\n",
    "import seaborn as sns\n",
    "sns.set_style(\"darkgrid\")\n",
    "\n",
    "%matplotlib inline"
   ]
  },
  {
   "cell_type": "markdown",
   "metadata": {},
   "source": [
    "In this homework, we'll build a model for predicting if we have an image of a bee or a wasp. For this, we will use the \"Bee or Wasp?\" dataset that was obtained from [Kaggle](https://www.kaggle.com/datasets/jerzydziewierz/bee-vs-wasp) and slightly rebuilt."
   ]
  },
  {
   "cell_type": "markdown",
   "metadata": {},
   "source": [
    "You can download the dataset for this homework from [here](https://github.com/SVizor42/ML_Zoomcamp/releases/download/bee-wasp-data/data.zip) or use the commands in this notebook."
   ]
  },
  {
   "cell_type": "code",
   "execution_count": 2,
   "metadata": {},
   "outputs": [],
   "source": [
    "# !wget -c https://github.com/SVizor42/ML_Zoomcamp/releases/download/bee-wasp-data/data.zip\n",
    "# !unzip data.zip "
   ]
  },
  {
   "cell_type": "markdown",
   "metadata": {},
   "source": [
    "## Data Preparation"
   ]
  },
  {
   "cell_type": "markdown",
   "metadata": {},
   "source": [
    "- The dataset contains around 2500 images of bees and around 2100 images of wasps.\n",
    "- The dataset contains separate folders for training and test sets.\n",
    "\n"
   ]
  },
  {
   "cell_type": "markdown",
   "metadata": {},
   "source": [
    "## Model"
   ]
  },
  {
   "cell_type": "markdown",
   "metadata": {},
   "source": [
    "The architecture of the model required for this section can be found in text form in the homework-file."
   ]
  },
  {
   "cell_type": "code",
   "execution_count": 3,
   "metadata": {},
   "outputs": [
    {
     "name": "stderr",
     "output_type": "stream",
     "text": [
      "2023-11-14 15:33:05.056284: E tensorflow/compiler/xla/stream_executor/cuda/cuda_dnn.cc:9342] Unable to register cuDNN factory: Attempting to register factory for plugin cuDNN when one has already been registered\n",
      "2023-11-14 15:33:05.056307: E tensorflow/compiler/xla/stream_executor/cuda/cuda_fft.cc:609] Unable to register cuFFT factory: Attempting to register factory for plugin cuFFT when one has already been registered\n",
      "2023-11-14 15:33:05.056330: E tensorflow/compiler/xla/stream_executor/cuda/cuda_blas.cc:1518] Unable to register cuBLAS factory: Attempting to register factory for plugin cuBLAS when one has already been registered\n",
      "2023-11-14 15:33:05.061924: I tensorflow/core/platform/cpu_feature_guard.cc:182] This TensorFlow binary is optimized to use available CPU instructions in performance-critical operations.\n",
      "To enable the following instructions: AVX2 FMA, in other operations, rebuild TensorFlow with the appropriate compiler flags.\n"
     ]
    },
    {
     "name": "stdout",
     "output_type": "stream",
     "text": [
      "GPUs:  1\n"
     ]
    },
    {
     "name": "stderr",
     "output_type": "stream",
     "text": [
      "2023-11-14 15:33:06.227333: I tensorflow/compiler/xla/stream_executor/cuda/cuda_gpu_executor.cc:894] successful NUMA node read from SysFS had negative value (-1), but there must be at least one NUMA node, so returning NUMA node zero. See more at https://github.com/torvalds/linux/blob/v6.0/Documentation/ABI/testing/sysfs-bus-pci#L344-L355\n",
      "2023-11-14 15:33:06.231294: I tensorflow/compiler/xla/stream_executor/cuda/cuda_gpu_executor.cc:894] successful NUMA node read from SysFS had negative value (-1), but there must be at least one NUMA node, so returning NUMA node zero. See more at https://github.com/torvalds/linux/blob/v6.0/Documentation/ABI/testing/sysfs-bus-pci#L344-L355\n",
      "2023-11-14 15:33:06.231433: I tensorflow/compiler/xla/stream_executor/cuda/cuda_gpu_executor.cc:894] successful NUMA node read from SysFS had negative value (-1), but there must be at least one NUMA node, so returning NUMA node zero. See more at https://github.com/torvalds/linux/blob/v6.0/Documentation/ABI/testing/sysfs-bus-pci#L344-L355\n"
     ]
    }
   ],
   "source": [
    "import tensorflow as tf\n",
    "import tensorflow as tf\n",
    "from tensorflow import keras\n",
    "from tensorflow.keras import Sequential\n",
    "\n",
    "\n",
    "print(\"GPUs: \", len(tf.config.list_physical_devices('GPU')))"
   ]
  },
  {
   "cell_type": "code",
   "execution_count": 4,
   "metadata": {},
   "outputs": [
    {
     "name": "stderr",
     "output_type": "stream",
     "text": [
      "2023-11-14 15:33:06.252961: I tensorflow/compiler/xla/stream_executor/cuda/cuda_gpu_executor.cc:894] successful NUMA node read from SysFS had negative value (-1), but there must be at least one NUMA node, so returning NUMA node zero. See more at https://github.com/torvalds/linux/blob/v6.0/Documentation/ABI/testing/sysfs-bus-pci#L344-L355\n",
      "2023-11-14 15:33:06.253287: I tensorflow/compiler/xla/stream_executor/cuda/cuda_gpu_executor.cc:894] successful NUMA node read from SysFS had negative value (-1), but there must be at least one NUMA node, so returning NUMA node zero. See more at https://github.com/torvalds/linux/blob/v6.0/Documentation/ABI/testing/sysfs-bus-pci#L344-L355\n",
      "2023-11-14 15:33:06.253454: I tensorflow/compiler/xla/stream_executor/cuda/cuda_gpu_executor.cc:894] successful NUMA node read from SysFS had negative value (-1), but there must be at least one NUMA node, so returning NUMA node zero. See more at https://github.com/torvalds/linux/blob/v6.0/Documentation/ABI/testing/sysfs-bus-pci#L344-L355\n",
      "2023-11-14 15:33:06.332758: I tensorflow/compiler/xla/stream_executor/cuda/cuda_gpu_executor.cc:894] successful NUMA node read from SysFS had negative value (-1), but there must be at least one NUMA node, so returning NUMA node zero. See more at https://github.com/torvalds/linux/blob/v6.0/Documentation/ABI/testing/sysfs-bus-pci#L344-L355\n",
      "2023-11-14 15:33:06.332927: I tensorflow/compiler/xla/stream_executor/cuda/cuda_gpu_executor.cc:894] successful NUMA node read from SysFS had negative value (-1), but there must be at least one NUMA node, so returning NUMA node zero. See more at https://github.com/torvalds/linux/blob/v6.0/Documentation/ABI/testing/sysfs-bus-pci#L344-L355\n",
      "2023-11-14 15:33:06.333039: I tensorflow/compiler/xla/stream_executor/cuda/cuda_gpu_executor.cc:894] successful NUMA node read from SysFS had negative value (-1), but there must be at least one NUMA node, so returning NUMA node zero. See more at https://github.com/torvalds/linux/blob/v6.0/Documentation/ABI/testing/sysfs-bus-pci#L344-L355\n",
      "2023-11-14 15:33:06.333119: I tensorflow/core/common_runtime/gpu/gpu_device.cc:1886] Created device /job:localhost/replica:0/task:0/device:GPU:0 with 5884 MB memory:  -> device: 0, name: NVIDIA GeForce RTX 2070 SUPER, pci bus id: 0000:01:00.0, compute capability: 7.5\n"
     ]
    },
    {
     "name": "stdout",
     "output_type": "stream",
     "text": [
      "<keras.src.engine.sequential.Sequential object at 0x7f35ee314340>\n",
      "<keras.src.optimizers.sgd.SGD object at 0x7f35f5651700>\n"
     ]
    }
   ],
   "source": [
    "model = Sequential([    \n",
    "    keras.Input(shape=(150, 150, 3)),\n",
    "    keras.layers.Conv2D(\n",
    "        filters=32,\n",
    "        kernel_size=(3, 3), \n",
    "        activation=\"relu\"), \n",
    "    keras.layers.MaxPooling2D(pool_size=(2, 2)),\n",
    "    keras.layers.Flatten(),\n",
    "    keras.layers.Dense(units=64, activation=\"relu\"),\n",
    "    keras.layers.Dense(units=1, activation=\"sigmoid\")\n",
    "])\n",
    "\n",
    "optimizer = keras.optimizers.SGD(learning_rate=0.002, momentum=0.8)\n",
    "\n",
    "loss = keras.losses.BinaryCrossentropy(from_logits=False)\n",
    "\n",
    "model.compile(\n",
    "    optimizer=optimizer,\n",
    "    loss=loss,\n",
    "    metrics=[\n",
    "        \"accuracy\",\n",
    "        keras.metrics.Precision(),\n",
    "        keras.metrics.Recall(),\n",
    "        keras.metrics.AUC()\n",
    "    ]\n",
    ")\n",
    "\n",
    "print(model)\n",
    "print(optimizer)\n"
   ]
  },
  {
   "cell_type": "markdown",
   "metadata": {},
   "source": [
    "### Question 1"
   ]
  },
  {
   "cell_type": "markdown",
   "metadata": {},
   "source": [
    "Since we have a binary classification problem, what is the best loss function for us?"
   ]
  },
  {
   "cell_type": "markdown",
   "metadata": {},
   "source": [
    "**Answer**: `binary crossentropy`"
   ]
  },
  {
   "cell_type": "markdown",
   "metadata": {},
   "source": [
    "### Question 2"
   ]
  },
  {
   "cell_type": "markdown",
   "metadata": {},
   "source": [
    "\n",
    "What's the number of parameters in the convolutional layer of our model? You can use the `summary` method for that. "
   ]
  },
  {
   "cell_type": "code",
   "execution_count": 5,
   "metadata": {},
   "outputs": [
    {
     "name": "stdout",
     "output_type": "stream",
     "text": [
      "Model: \"sequential\"\n",
      "_________________________________________________________________\n",
      " Layer (type)                Output Shape              Param #   \n",
      "=================================================================\n",
      " conv2d (Conv2D)             (None, 148, 148, 32)      896       \n",
      "                                                                 \n",
      " max_pooling2d (MaxPooling2  (None, 74, 74, 32)        0         \n",
      " D)                                                              \n",
      "                                                                 \n",
      " flatten (Flatten)           (None, 175232)            0         \n",
      "                                                                 \n",
      " dense (Dense)               (None, 64)                11214912  \n",
      "                                                                 \n",
      " dense_1 (Dense)             (None, 1)                 65        \n",
      "                                                                 \n",
      "=================================================================\n",
      "Total params: 11215873 (42.79 MB)\n",
      "Trainable params: 11215873 (42.79 MB)\n",
      "Non-trainable params: 0 (0.00 Byte)\n",
      "_________________________________________________________________\n"
     ]
    }
   ],
   "source": [
    "model.summary()"
   ]
  },
  {
   "cell_type": "markdown",
   "metadata": {},
   "source": [
    "**Answer**: `896`"
   ]
  },
  {
   "cell_type": "markdown",
   "metadata": {},
   "source": [
    "## Generators and Training"
   ]
  },
  {
   "cell_type": "code",
   "execution_count": 6,
   "metadata": {},
   "outputs": [],
   "source": [
    "from tensorflow.keras.preprocessing.image import ImageDataGenerator"
   ]
  },
  {
   "cell_type": "code",
   "execution_count": 7,
   "metadata": {},
   "outputs": [
    {
     "name": "stdout",
     "output_type": "stream",
     "text": [
      "Found 2758 images belonging to 2 classes.\n",
      "Found 919 images belonging to 2 classes.\n",
      "Found 918 images belonging to 2 classes.\n"
     ]
    },
    {
     "data": {
      "text/plain": [
       "918"
      ]
     },
     "execution_count": 7,
     "metadata": {},
     "output_type": "execute_result"
    }
   ],
   "source": [
    "batch_size = 20\n",
    "\n",
    "train_val_gen = ImageDataGenerator(rescale=1.0/255.0, validation_split=0.25) # 0.25 * 0.8 = 0.2:\n",
    "\n",
    "train_ds = train_val_gen.flow_from_directory(\n",
    "    \"./data/train/\", \n",
    "    target_size=(150, 150), \n",
    "    batch_size=batch_size,\n",
    "    shuffle=True,\n",
    "    class_mode=\"binary\",\n",
    "    subset=\"training\"\n",
    ")\n",
    "\n",
    "val_ds = train_val_gen.flow_from_directory(\n",
    "    \"./data/train/\", \n",
    "    target_size=(150, 150), \n",
    "    batch_size=batch_size,\n",
    "    shuffle=True,\n",
    "    class_mode=\"binary\",\n",
    "    subset=\"validation\"\n",
    ")\n",
    "\n",
    "\n",
    "test_gen = ImageDataGenerator(rescale=1.0/255.0)\n",
    "\n",
    "test_ds = test_gen.flow_from_directory(\n",
    "    \"./data/test/\",\n",
    "    target_size=(150, 150),\n",
    "    batch_size=batch_size,\n",
    "    shuffle=False, # just for eval. -> no shuffling needed\n",
    "    class_mode=\"binary\"\n",
    ")"
   ]
  },
  {
   "cell_type": "code",
   "execution_count": 8,
   "metadata": {},
   "outputs": [
    {
     "name": "stdout",
     "output_type": "stream",
     "text": [
      "Train: 60% 2758\n",
      "Val: 20% 919\n",
      "Test: 20% 918\n"
     ]
    }
   ],
   "source": [
    "n_train = train_ds.samples\n",
    "n_val = val_ds.samples\n",
    "n_test = test_ds.samples\n",
    "n = n_train + n_val + n_test\n",
    "print(f\"Train: {100 * n_train/n:.0f}%\", n_train)\n",
    "print(f\"Val: {100 * n_val/n:.0f}%\", n_val)\n",
    "print(f\"Test: {100 * n_test/n:.0f}%\", n_test)"
   ]
  },
  {
   "cell_type": "code",
   "execution_count": 9,
   "metadata": {},
   "outputs": [
    {
     "name": "stdout",
     "output_type": "stream",
     "text": [
      "Epoch 1/10\n"
     ]
    },
    {
     "name": "stderr",
     "output_type": "stream",
     "text": [
      "2023-11-14 15:33:07.233305: I tensorflow/compiler/xla/stream_executor/cuda/cuda_dnn.cc:442] Loaded cuDNN version 8700\n",
      "2023-11-14 15:33:08.468134: I tensorflow/compiler/xla/service/service.cc:168] XLA service 0x7f355c26ab90 initialized for platform CUDA (this does not guarantee that XLA will be used). Devices:\n",
      "2023-11-14 15:33:08.468155: I tensorflow/compiler/xla/service/service.cc:176]   StreamExecutor device (0): NVIDIA GeForce RTX 2070 SUPER, Compute Capability 7.5\n",
      "2023-11-14 15:33:08.510254: I ./tensorflow/compiler/jit/device_compiler.h:186] Compiled cluster using XLA!  This line is logged at most once for the lifetime of the process.\n"
     ]
    },
    {
     "name": "stdout",
     "output_type": "stream",
     "text": [
      "138/138 [==============================] - 7s 37ms/step - loss: 0.6807 - accuracy: 0.5653 - precision: 0.5348 - recall: 0.4639 - auc: 0.5889 - val_loss: 0.6431 - val_accuracy: 0.5876 - val_precision: 0.7170 - val_recall: 0.1788 - val_auc: 0.7196\n",
      "Epoch 2/10\n",
      "138/138 [==============================] - 5s 35ms/step - loss: 0.6405 - accuracy: 0.6258 - precision: 0.6074 - recall: 0.5408 - auc: 0.6826 - val_loss: 0.6422 - val_accuracy: 0.6170 - val_precision: 0.5506 - val_recall: 0.9341 - val_auc: 0.7801\n",
      "Epoch 3/10\n",
      "138/138 [==============================] - 5s 35ms/step - loss: 0.5983 - accuracy: 0.6759 - precision: 0.6548 - recall: 0.6332 - auc: 0.7444 - val_loss: 0.5855 - val_accuracy: 0.6931 - val_precision: 0.6166 - val_recall: 0.8894 - val_auc: 0.7978\n",
      "Epoch 4/10\n",
      "138/138 [==============================] - 5s 34ms/step - loss: 0.5635 - accuracy: 0.7259 - precision: 0.6915 - recall: 0.7359 - auc: 0.7831 - val_loss: 0.6384 - val_accuracy: 0.6355 - val_precision: 0.5632 - val_recall: 0.9435 - val_auc: 0.7890\n",
      "Epoch 5/10\n",
      "138/138 [==============================] - 5s 35ms/step - loss: 0.5303 - accuracy: 0.7469 - precision: 0.7144 - recall: 0.7547 - auc: 0.8168 - val_loss: 0.5260 - val_accuracy: 0.7573 - val_precision: 0.6942 - val_recall: 0.8494 - val_auc: 0.8258\n",
      "Epoch 6/10\n",
      "138/138 [==============================] - 5s 35ms/step - loss: 0.5020 - accuracy: 0.7687 - precision: 0.7318 - recall: 0.7892 - auc: 0.8408 - val_loss: 0.5632 - val_accuracy: 0.6975 - val_precision: 0.7882 - val_recall: 0.4729 - val_auc: 0.8155\n",
      "Epoch 7/10\n",
      "138/138 [==============================] - 5s 35ms/step - loss: 0.4816 - accuracy: 0.7890 - precision: 0.7574 - recall: 0.8002 - auc: 0.8574 - val_loss: 0.5308 - val_accuracy: 0.7269 - val_precision: 0.7559 - val_recall: 0.6047 - val_auc: 0.8226\n",
      "Epoch 8/10\n",
      "138/138 [==============================] - 5s 35ms/step - loss: 0.4651 - accuracy: 0.7868 - precision: 0.7537 - recall: 0.8009 - auc: 0.8681 - val_loss: 0.5250 - val_accuracy: 0.7258 - val_precision: 0.7629 - val_recall: 0.5906 - val_auc: 0.8290\n",
      "Epoch 9/10\n",
      "138/138 [==============================] - 5s 35ms/step - loss: 0.4482 - accuracy: 0.7995 - precision: 0.7708 - recall: 0.8064 - auc: 0.8798 - val_loss: 0.5204 - val_accuracy: 0.7356 - val_precision: 0.6996 - val_recall: 0.7506 - val_auc: 0.8138\n",
      "Epoch 10/10\n",
      "138/138 [==============================] - 5s 35ms/step - loss: 0.4099 - accuracy: 0.8310 - precision: 0.8045 - recall: 0.8386 - auc: 0.9031 - val_loss: 0.5048 - val_accuracy: 0.7541 - val_precision: 0.7002 - val_recall: 0.8188 - val_auc: 0.8312\n"
     ]
    }
   ],
   "source": [
    "n_epochs = 10\n",
    "\n",
    "history = model.fit(\n",
    "    train_ds,\n",
    "    epochs=n_epochs,\n",
    "    validation_data=val_ds\n",
    ")"
   ]
  },
  {
   "cell_type": "code",
   "execution_count": 10,
   "metadata": {},
   "outputs": [
    {
     "data": {
      "text/plain": [
       "0.76"
      ]
     },
     "execution_count": 10,
     "metadata": {},
     "output_type": "execute_result"
    }
   ],
   "source": [
    "np.median(np.array(history.history[\"accuracy\"])).round(2)"
   ]
  },
  {
   "cell_type": "markdown",
   "metadata": {},
   "source": [
    "**Answer**: `0.80` (nearest value)"
   ]
  },
  {
   "cell_type": "markdown",
   "metadata": {},
   "source": [
    "## Question 4"
   ]
  },
  {
   "cell_type": "markdown",
   "metadata": {},
   "source": [
    "What is the standard deviation of training loss for all the epochs for this model?"
   ]
  },
  {
   "cell_type": "code",
   "execution_count": 12,
   "metadata": {},
   "outputs": [
    {
     "data": {
      "text/plain": [
       "0.083"
      ]
     },
     "execution_count": 12,
     "metadata": {},
     "output_type": "execute_result"
    }
   ],
   "source": [
    "np.std(np.array(history.history[\"loss\"])).round(3)"
   ]
  },
  {
   "cell_type": "markdown",
   "metadata": {},
   "source": [
    "**Answer**: `0.091` (nearest value)"
   ]
  },
  {
   "cell_type": "markdown",
   "metadata": {},
   "source": []
  }
 ],
 "metadata": {
  "kernelspec": {
   "display_name": "ml-zoomcamp",
   "language": "python",
   "name": "python3"
  },
  "language_info": {
   "codemirror_mode": {
    "name": "ipython",
    "version": 3
   },
   "file_extension": ".py",
   "mimetype": "text/x-python",
   "name": "python",
   "nbconvert_exporter": "python",
   "pygments_lexer": "ipython3",
   "version": "3.9.18"
  }
 },
 "nbformat": 4,
 "nbformat_minor": 2
}
