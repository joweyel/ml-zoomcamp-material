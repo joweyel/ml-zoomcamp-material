{
 "cells": [
  {
   "cell_type": "code",
   "execution_count": 79,
   "metadata": {},
   "outputs": [],
   "source": [
    "import numpy as np\n",
    "import matplotlib.pyplot as plt\n",
    "import pandas as pd\n",
    "import seaborn as sns\n",
    "sns.set_style(\"darkgrid\")\n",
    "\n",
    "from sklearn.model_selection import train_test_split\n",
    "from sklearn.metrics import roc_auc_score\n",
    "from sklearn.feature_extraction import DictVectorizer\n",
    "from sklearn.linear_model import LogisticRegression\n",
    "\n",
    "import warnings\n",
    "warnings.simplefilter(\"ignore\")"
   ]
  },
  {
   "cell_type": "markdown",
   "metadata": {},
   "source": [
    "Get the data"
   ]
  },
  {
   "cell_type": "code",
   "execution_count": 80,
   "metadata": {},
   "outputs": [
    {
     "name": "stdout",
     "output_type": "stream",
     "text": [
      "--2023-10-07 00:55:46--  http://wget/\n",
      "Resolving wget (wget)... failed: Temporary failure in name resolution.\n",
      "wget: unable to resolve host address ‘wget’\n",
      "--2023-10-07 00:55:46--  https://raw.githubusercontent.com/alexeygrigorev/mlbookcamp-code/master/chapter-02-car-price/data.csv\n",
      "Resolving raw.githubusercontent.com (raw.githubusercontent.com)... 2606:50c0:8000::154, 2606:50c0:8001::154, 2606:50c0:8002::154, ...\n",
      "Connecting to raw.githubusercontent.com (raw.githubusercontent.com)|2606:50c0:8000::154|:443... connected.\n",
      "HTTP request sent, awaiting response... 416 Range Not Satisfiable\n",
      "\n",
      "    The file is already fully retrieved; nothing to do.\n",
      "\n"
     ]
    }
   ],
   "source": [
    "data_link = \"wget https://raw.githubusercontent.com/alexeygrigorev/mlbookcamp-code/master/chapter-02-car-price/data.csv\"\n",
    "!wget -c $data_link"
   ]
  },
  {
   "cell_type": "code",
   "execution_count": 81,
   "metadata": {},
   "outputs": [],
   "source": [
    "data = pd.read_csv(\"data.csv\")"
   ]
  },
  {
   "cell_type": "markdown",
   "metadata": {},
   "source": [
    "**Data Preparation**"
   ]
  },
  {
   "cell_type": "code",
   "execution_count": 82,
   "metadata": {},
   "outputs": [],
   "source": [
    "# Keeping only the following columns\n",
    "cols = [\n",
    "    \"Make\",\n",
    "    \"Model\",\n",
    "    \"Year\",\n",
    "    \"Engine HP\",\n",
    "    \"Engine Cylinders\",\n",
    "    \"Transmission Type\",\n",
    "    \"Vehicle Style\",\n",
    "    \"highway MPG\",\n",
    "    \"city mpg\",\n",
    "    \"MSRP\"\n",
    "]\n",
    "df = data[cols]\n",
    "\n",
    "# Lowercase the column names and replace spaces with underscores\n",
    "df.columns = df.columns.str.lower().str.replace(\" \", \"_\")\n",
    "categorical_columns = list(df.dtypes[df.dtypes == \"object\"].index)\n",
    "\n",
    "for c in categorical_columns:\n",
    "    df[c] = df[c].str.lower().str.replace(' ', '_')\n",
    "\n",
    "# Fill the missing values with 0\n",
    "df[\"engine_hp\"].fillna(0, inplace=True)\n",
    "df[\"engine_cylinders\"].fillna(0, inplace=True)\n",
    "\n",
    "# Make the price binary (1 if above the average, 0 otherwise) - \n",
    "# this will be our target variable `above_average`\n",
    "df[\"above_average\"] = (df[\"msrp\"] > df[\"msrp\"].mean()).astype(int)\n",
    "df.drop(\"msrp\", axis=1, inplace=True)"
   ]
  },
  {
   "cell_type": "markdown",
   "metadata": {},
   "source": [
    "Spliting the data into 3 parts: train/validation/test with 60%/20%/20% distribution with `random_state = 1`"
   ]
  },
  {
   "cell_type": "code",
   "execution_count": 83,
   "metadata": {},
   "outputs": [
    {
     "name": "stdout",
     "output_type": "stream",
     "text": [
      "df_train: 7148 | 60%\n",
      "df_val: 2383 | 20%\n",
      "df_test: 2383 | 20%\n"
     ]
    }
   ],
   "source": [
    "rs = 1\n",
    "df_full_train, df_test = train_test_split(df, test_size=0.2, random_state=rs)\n",
    "df_train, df_val = train_test_split(df_full_train, test_size=0.25, random_state=rs)\n",
    "\n",
    "df_train = df_train.reset_index(drop=True)\n",
    "df_val = df_val.reset_index(drop=True)\n",
    "df_test = df_test.reset_index(drop=True)\n",
    "\n",
    "y_train = df_train[\"above_average\"].values\n",
    "y_val = df_val[\"above_average\"].values\n",
    "y_test = df_test[\"above_average\"].values\n",
    "\n",
    "df_train.drop(\"above_average\", axis=1, inplace=True)\n",
    "df_val.drop(\"above_average\", axis=1, inplace=True)\n",
    "df_test.drop(\"above_average\", axis=1, inplace=True)\n",
    "\n",
    "print(f\"df_train: {len(df_train)} | {len(df_train) / len(df)*100:.0f}%\")\n",
    "print(f\"df_val: {len(df_val)} | {len(df_val) / len(df)*100:.0f}%\")\n",
    "print(f\"df_test: {len(df_test)} | {len(df_test) / len(df)*100:.0f}%\")"
   ]
  },
  {
   "cell_type": "markdown",
   "metadata": {},
   "source": [
    "### Question 1: ROC AUC feature importance"
   ]
  },
  {
   "cell_type": "code",
   "execution_count": 84,
   "metadata": {},
   "outputs": [
    {
     "name": "stdout",
     "output_type": "stream",
     "text": [
      "numerical:  ['year', 'engine_hp', 'engine_cylinders', 'highway_mpg', 'city_mpg']\n",
      "categorical:  ['make', 'model', 'transmission_type', 'vehicle_style']\n"
     ]
    }
   ],
   "source": [
    "numerical = [\"year\", \"engine_hp\", \"engine_cylinders\", \"highway_mpg\", \"city_mpg\"]\n",
    "categorical = [\"make\", \"model\", \"transmission_type\", \"vehicle_style\"]\n",
    "print(\"numerical: \", numerical)\n",
    "print(\"categorical: \", categorical)"
   ]
  },
  {
   "cell_type": "code",
   "execution_count": 85,
   "metadata": {},
   "outputs": [
    {
     "name": "stdout",
     "output_type": "stream",
     "text": [
      "AUC(year): 0.687551\n",
      "AUC(engine_hp): 0.917103\n",
      "AUC(engine_cylinders): 0.766116\n",
      "AUC(highway_mpg): 0.633059\n",
      "AUC(city_mpg): 0.673424\n"
     ]
    }
   ],
   "source": [
    "# computint the AUC score\n",
    "for c in numerical:\n",
    "    auc = roc_auc_score(y_train, df_train[c])\n",
    "    if auc < 0.5:\n",
    "        auc = roc_auc_score(y_train, -df_train[c])\n",
    "    print(f\"AUC({c}): {auc:.6f}\")\n"
   ]
  },
  {
   "cell_type": "markdown",
   "metadata": {},
   "source": [
    "**Solution:** `engine_hp`"
   ]
  },
  {
   "cell_type": "markdown",
   "metadata": {},
   "source": [
    "### Question 2: Training the model"
   ]
  },
  {
   "cell_type": "code",
   "execution_count": 86,
   "metadata": {},
   "outputs": [],
   "source": [
    "def train(df_train, y_train, C=1.0):\n",
    "    train_dicts = df_train[categorical + numerical].to_dict(orient=\"records\")\n",
    "    dv = DictVectorizer(sparse=False)\n",
    "    X_train = dv.fit_transform(train_dicts)\n",
    "\n",
    "    model = LogisticRegression(solver='liblinear', C=C, max_iter=1000)\n",
    "    model.fit(X_train, y_train)\n",
    "\n",
    "    return dv, model\n",
    "\n",
    "def predict(df, dv, model):\n",
    "    dicts = df[categorical + numerical].to_dict(orient=\"records\")\n",
    "    X = dv.transform(dicts)\n",
    "    y_pred = model.predict_proba(X)[:, 1]\n",
    "\n",
    "    return y_pred"
   ]
  },
  {
   "cell_type": "code",
   "execution_count": 87,
   "metadata": {},
   "outputs": [],
   "source": [
    "dv, model = train(df_train, y_train)\n",
    "y_pred = predict(df_val, dv, model)"
   ]
  },
  {
   "cell_type": "code",
   "execution_count": 88,
   "metadata": {},
   "outputs": [
    {
     "name": "stdout",
     "output_type": "stream",
     "text": [
      "AUC: 0.976350\n"
     ]
    }
   ],
   "source": [
    "print(f\"AUC: {roc_auc_score(y_val, y_pred):.6f}\")"
   ]
  },
  {
   "cell_type": "markdown",
   "metadata": {},
   "source": [
    "**Solution:** `0.979`"
   ]
  },
  {
   "cell_type": "markdown",
   "metadata": {},
   "source": [
    "### Question 3: Precision and Recall"
   ]
  },
  {
   "cell_type": "markdown",
   "metadata": {},
   "source": [
    "Compute `precision` and `recall` for our model"
   ]
  },
  {
   "cell_type": "markdown",
   "metadata": {},
   "source": [
    "- $\\text{Precision} = \\frac{tp}{tp + fp}$\n",
    "- $\\text{Recall} = \\frac{tp}{tp + fn}$"
   ]
  },
  {
   "cell_type": "code",
   "execution_count": 89,
   "metadata": {},
   "outputs": [
    {
     "data": {
      "image/png": "[encoded data removed]",
      "text/plain": [
       "<Figure size 640x480 with 1 Axes>"
      ]
     },
     "metadata": {},
     "output_type": "display_data"
    }
   ],
   "source": [
    "# Evaluate the model on all thresholds from 0.0 to 1.0 with step 0.01\n",
    "thresholds = np.linspace(0.0, 1.0, 101)\n",
    "\n",
    "def tpr_fpr_dataframe(y_val, y_pred, thresholds):\n",
    "    scores = []\n",
    "\n",
    "    for t in thresholds:\n",
    "        # For each threshold, compute precision and recall\n",
    "        actual_positive = (y_val == 1)\n",
    "        actual_negative = (y_val == 0)\n",
    "\n",
    "        pred_positive = (y_pred >= t)\n",
    "        pred_negative = (y_pred < t)\n",
    "\n",
    "        tp = (pred_positive & actual_positive).sum()\n",
    "        tn = (pred_negative & actual_negative).sum()\n",
    "\n",
    "        fp = (pred_positive & actual_negative).sum()\n",
    "        fn = (pred_negative & actual_positive).sum()\n",
    "\n",
    "        scores.append((t, tp, fp, tn, fn))\n",
    "\n",
    "    columns = [\"threshold\", \"tp\", \"fp\", \"tn\", \"fn\"]\n",
    "    df_scores = pd.DataFrame(scores, columns=columns)\n",
    "\n",
    "\n",
    "    # For each threshold, compute precision and recall\n",
    "    df_scores[\"tpr\"] = df_scores[\"tp\"] / (df_scores[\"tp\"] + df_scores[\"fn\"])\n",
    "    df_scores[\"fpr\"] = df_scores[\"fp\"] / (df_scores[\"fp\"] + df_scores[\"tn\"])\n",
    "\n",
    "    return df_scores\n",
    "\n",
    "\n",
    "df_scores = tpr_fpr_dataframe(y_val, y_pred, thresholds)\n",
    "\n",
    "# Plot them\n",
    "plt.plot(df_scores[\"threshold\"], df_scores[\"tpr\"], label=\"TPR\")\n",
    "plt.plot(df_scores[\"threshold\"], df_scores[\"fpr\"], label=\"FPR\")\n",
    "plt.xlabel(\"threshold\")\n",
    "plt.legend()\n",
    "plt.show()\n"
   ]
  },
  {
   "cell_type": "markdown",
   "metadata": {},
   "source": [
    "**Solution:** `TODO`"
   ]
  },
  {
   "cell_type": "markdown",
   "metadata": {},
   "source": []
  }
 ],
 "metadata": {
  "kernelspec": {
   "display_name": "ml-zoomcamp",
   "language": "python",
   "name": "ml-zoomcamp"
  },
  "language_info": {
   "codemirror_mode": {
    "name": "ipython",
    "version": 3
   },
   "file_extension": ".py",
   "mimetype": "text/x-python",
   "name": "python",
   "nbconvert_exporter": "python",
   "pygments_lexer": "ipython3",
   "version": "3.9.18"
  }
 },
 "nbformat": 4,
 "nbformat_minor": 2
}
